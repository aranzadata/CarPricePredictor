{
 "cells": [
  {
   "cell_type": "markdown",
   "metadata": {},
   "source": [
    "# Predictor automático de precio de autos\n",
    "El servicio de venta de autos usados Rusty Bargain está desarrollando una aplicación para atraer nuevos clientes. Gracias a esa app, puedes averiguar rápidamente el valor de mercado de tu coche. El objetivo es  crear un modelo que determine el valor de mercado. Se cuenta con especificaciones técnicas, versiones de equipamiento y precios. \n",
    "\n",
    "Se comparan tres tipos de modelos y se evalúan:\n",
    "- la calidad de la predicción;\n",
    "- la velocidad de la predicción;\n",
    "- el tiempo requerido para el entrenamiento"
   ]
  },
  {
   "cell_type": "markdown",
   "metadata": {},
   "source": [
    "## Inicialización "
   ]
  },
  {
   "cell_type": "code",
   "execution_count": 1,
   "metadata": {},
   "outputs": [],
   "source": [
    "# manejo de datos\n",
    "#---------------------------\n",
    "import numpy as np\n",
    "import pandas as pd\n",
    "\n",
    "import math\n",
    "import scipy \n",
    "import datetime\n",
    "\n",
    "# visualización\n",
    "#---------------------------\n",
    "import matplotlib.pyplot as plt\n",
    "import seaborn as sns\n",
    "\n",
    "# pre-procesamiento\n",
    "#---------------------------\n",
    "from sklearn.preprocessing import OrdinalEncoder, StandardScaler, MinMaxScaler\n",
    "from sklearn.model_selection import train_test_split\n",
    "\n",
    "# modelos\n",
    "#---------------------------\n",
    "from sklearn.linear_model import LinearRegression\n",
    "from sklearn.tree import DecisionTreeRegressor\n",
    "from sklearn.ensemble import RandomForestRegressor\n",
    "import lightgbm as lgb\n",
    "\n",
    "# evaluación\n",
    "#---------------------------\n",
    "from sklearn.metrics import  mean_squared_error, r2_score\n",
    "import time"
   ]
  },
  {
   "cell_type": "markdown",
   "metadata": {},
   "source": [
    "## Inspección inicial de datos\n",
    "\n",
    "Se importan los datos"
   ]
  },
  {
   "cell_type": "code",
   "execution_count": 2,
   "metadata": {},
   "outputs": [],
   "source": [
    "data = pd.read_csv('/datasets/car_data.csv')"
   ]
  },
  {
   "cell_type": "markdown",
   "metadata": {},
   "source": [
    "Se muestra la información general del dataframe y una muestra de los datos."
   ]
  },
  {
   "cell_type": "code",
   "execution_count": 3,
   "metadata": {},
   "outputs": [
    {
     "name": "stdout",
     "output_type": "stream",
     "text": [
      "<class 'pandas.core.frame.DataFrame'>\n",
      "RangeIndex: 354369 entries, 0 to 354368\n",
      "Data columns (total 16 columns):\n",
      " #   Column             Non-Null Count   Dtype \n",
      "---  ------             --------------   ----- \n",
      " 0   DateCrawled        354369 non-null  object\n",
      " 1   Price              354369 non-null  int64 \n",
      " 2   VehicleType        316879 non-null  object\n",
      " 3   RegistrationYear   354369 non-null  int64 \n",
      " 4   Gearbox            334536 non-null  object\n",
      " 5   Power              354369 non-null  int64 \n",
      " 6   Model              334664 non-null  object\n",
      " 7   Mileage            354369 non-null  int64 \n",
      " 8   RegistrationMonth  354369 non-null  int64 \n",
      " 9   FuelType           321474 non-null  object\n",
      " 10  Brand              354369 non-null  object\n",
      " 11  NotRepaired        283215 non-null  object\n",
      " 12  DateCreated        354369 non-null  object\n",
      " 13  NumberOfPictures   354369 non-null  int64 \n",
      " 14  PostalCode         354369 non-null  int64 \n",
      " 15  LastSeen           354369 non-null  object\n",
      "dtypes: int64(7), object(9)\n",
      "memory usage: 43.3+ MB\n"
     ]
    }
   ],
   "source": [
    "data.info()"
   ]
  },
  {
   "cell_type": "code",
   "execution_count": 4,
   "metadata": {},
   "outputs": [
    {
     "data": {
      "text/html": [
       "<div>\n",
       "<style scoped>\n",
       "    .dataframe tbody tr th:only-of-type {\n",
       "        vertical-align: middle;\n",
       "    }\n",
       "\n",
       "    .dataframe tbody tr th {\n",
       "        vertical-align: top;\n",
       "    }\n",
       "\n",
       "    .dataframe thead th {\n",
       "        text-align: right;\n",
       "    }\n",
       "</style>\n",
       "<table border=\"1\" class=\"dataframe\">\n",
       "  <thead>\n",
       "    <tr style=\"text-align: right;\">\n",
       "      <th></th>\n",
       "      <th>DateCrawled</th>\n",
       "      <th>Price</th>\n",
       "      <th>VehicleType</th>\n",
       "      <th>RegistrationYear</th>\n",
       "      <th>Gearbox</th>\n",
       "      <th>Power</th>\n",
       "      <th>Model</th>\n",
       "      <th>Mileage</th>\n",
       "      <th>RegistrationMonth</th>\n",
       "      <th>FuelType</th>\n",
       "      <th>Brand</th>\n",
       "      <th>NotRepaired</th>\n",
       "      <th>DateCreated</th>\n",
       "      <th>NumberOfPictures</th>\n",
       "      <th>PostalCode</th>\n",
       "      <th>LastSeen</th>\n",
       "    </tr>\n",
       "  </thead>\n",
       "  <tbody>\n",
       "    <tr>\n",
       "      <th>338405</th>\n",
       "      <td>09/03/2016 02:57</td>\n",
       "      <td>9990</td>\n",
       "      <td>sedan</td>\n",
       "      <td>2003</td>\n",
       "      <td>auto</td>\n",
       "      <td>260</td>\n",
       "      <td>e_klasse</td>\n",
       "      <td>150000</td>\n",
       "      <td>9</td>\n",
       "      <td>gasoline</td>\n",
       "      <td>mercedes_benz</td>\n",
       "      <td>no</td>\n",
       "      <td>09/03/2016 00:00</td>\n",
       "      <td>0</td>\n",
       "      <td>23558</td>\n",
       "      <td>20/03/2016 21:47</td>\n",
       "    </tr>\n",
       "    <tr>\n",
       "      <th>307737</th>\n",
       "      <td>30/03/2016 18:51</td>\n",
       "      <td>18000</td>\n",
       "      <td>coupe</td>\n",
       "      <td>2011</td>\n",
       "      <td>manual</td>\n",
       "      <td>160</td>\n",
       "      <td>tt</td>\n",
       "      <td>40000</td>\n",
       "      <td>3</td>\n",
       "      <td>petrol</td>\n",
       "      <td>audi</td>\n",
       "      <td>no</td>\n",
       "      <td>30/03/2016 00:00</td>\n",
       "      <td>0</td>\n",
       "      <td>29386</td>\n",
       "      <td>07/04/2016 10:17</td>\n",
       "    </tr>\n",
       "    <tr>\n",
       "      <th>29630</th>\n",
       "      <td>17/03/2016 10:51</td>\n",
       "      <td>920</td>\n",
       "      <td>small</td>\n",
       "      <td>1998</td>\n",
       "      <td>manual</td>\n",
       "      <td>54</td>\n",
       "      <td>corsa</td>\n",
       "      <td>150000</td>\n",
       "      <td>5</td>\n",
       "      <td>petrol</td>\n",
       "      <td>opel</td>\n",
       "      <td>no</td>\n",
       "      <td>17/03/2016 00:00</td>\n",
       "      <td>0</td>\n",
       "      <td>44866</td>\n",
       "      <td>25/03/2016 10:47</td>\n",
       "    </tr>\n",
       "    <tr>\n",
       "      <th>122590</th>\n",
       "      <td>05/04/2016 09:48</td>\n",
       "      <td>1666</td>\n",
       "      <td>sedan</td>\n",
       "      <td>1999</td>\n",
       "      <td>manual</td>\n",
       "      <td>155</td>\n",
       "      <td>other</td>\n",
       "      <td>150000</td>\n",
       "      <td>6</td>\n",
       "      <td>petrol</td>\n",
       "      <td>alfa_romeo</td>\n",
       "      <td>no</td>\n",
       "      <td>05/04/2016 00:00</td>\n",
       "      <td>0</td>\n",
       "      <td>25821</td>\n",
       "      <td>07/04/2016 12:17</td>\n",
       "    </tr>\n",
       "    <tr>\n",
       "      <th>204653</th>\n",
       "      <td>16/03/2016 18:42</td>\n",
       "      <td>2400</td>\n",
       "      <td>sedan</td>\n",
       "      <td>2003</td>\n",
       "      <td>manual</td>\n",
       "      <td>75</td>\n",
       "      <td>golf</td>\n",
       "      <td>125000</td>\n",
       "      <td>7</td>\n",
       "      <td>petrol</td>\n",
       "      <td>volkswagen</td>\n",
       "      <td>no</td>\n",
       "      <td>16/03/2016 00:00</td>\n",
       "      <td>0</td>\n",
       "      <td>97080</td>\n",
       "      <td>21/03/2016 21:49</td>\n",
       "    </tr>\n",
       "  </tbody>\n",
       "</table>\n",
       "</div>"
      ],
      "text/plain": [
       "             DateCrawled  Price VehicleType  RegistrationYear Gearbox  Power  \\\n",
       "338405  09/03/2016 02:57   9990       sedan              2003    auto    260   \n",
       "307737  30/03/2016 18:51  18000       coupe              2011  manual    160   \n",
       "29630   17/03/2016 10:51    920       small              1998  manual     54   \n",
       "122590  05/04/2016 09:48   1666       sedan              1999  manual    155   \n",
       "204653  16/03/2016 18:42   2400       sedan              2003  manual     75   \n",
       "\n",
       "           Model  Mileage  RegistrationMonth  FuelType          Brand  \\\n",
       "338405  e_klasse   150000                  9  gasoline  mercedes_benz   \n",
       "307737        tt    40000                  3    petrol           audi   \n",
       "29630      corsa   150000                  5    petrol           opel   \n",
       "122590     other   150000                  6    petrol     alfa_romeo   \n",
       "204653      golf   125000                  7    petrol     volkswagen   \n",
       "\n",
       "       NotRepaired       DateCreated  NumberOfPictures  PostalCode  \\\n",
       "338405          no  09/03/2016 00:00                 0       23558   \n",
       "307737          no  30/03/2016 00:00                 0       29386   \n",
       "29630           no  17/03/2016 00:00                 0       44866   \n",
       "122590          no  05/04/2016 00:00                 0       25821   \n",
       "204653          no  16/03/2016 00:00                 0       97080   \n",
       "\n",
       "                LastSeen  \n",
       "338405  20/03/2016 21:47  \n",
       "307737  07/04/2016 10:17  \n",
       "29630   25/03/2016 10:47  \n",
       "122590  07/04/2016 12:17  \n",
       "204653  21/03/2016 21:49  "
      ]
     },
     "execution_count": 4,
     "metadata": {},
     "output_type": "execute_result"
    }
   ],
   "source": [
    "data.sample(5)"
   ]
  },
  {
   "cell_type": "markdown",
   "metadata": {},
   "source": [
    "Se tienen  354,369 filas con 16 columnas corresponientes a:\n",
    "\n",
    "- DateCrawled: fecha en la que se descargó el perfil de la base de datos.\n",
    "- Price: precio (en euros)\n",
    "- VehicleType: tipo de carrocería del vehículo\n",
    "- RegistrationYear: año de matriculación del vehículo\n",
    "- Gearbox: tipo de caja de cambios\n",
    "- Power: potencia (CV)\n",
    "- Model: modelo del vehículo\n",
    "- Mileage: kilometraje (medido en km de acuerdo con las especificidades regionales del conjunto de datos)\n",
    "- RegistrationMonth: mes de matriculación del vehículo\n",
    "- FuelType: tipo de combustible\n",
    "- Brand:  marca del vehículo\n",
    "- NotRepaired: vehículo con o sin reparación\n",
    "- DateCreated: fecha de creación del perfil\n",
    "- NumberOfPictures: número de fotos del vehículo\n",
    "- PostalCode: código postal del propietario del perfil (usuario)\n",
    "- LastSeen: fecha de la última vez que el usuario estuvo activo"
   ]
  },
  {
   "cell_type": "markdown",
   "metadata": {},
   "source": [
    "### Tipo de datos."
   ]
  },
  {
   "cell_type": "markdown",
   "metadata": {},
   "source": [
    "La columna DateCrawled es la fecha en la que se descargó el perfil a la base de datos. En principio no representa una característica de la publicación o el auto por lo cual no debería afectar el precio, por lo cual la descartamos del análisis."
   ]
  },
  {
   "cell_type": "code",
   "execution_count": 5,
   "metadata": {},
   "outputs": [],
   "source": [
    "data = data.drop(columns=['DateCrawled'])"
   ]
  },
  {
   "cell_type": "markdown",
   "metadata": {},
   "source": [
    "El resto de las columnas correspondientes a fechas se cambian a formato TimeStamp, y luego a entero para posteriormente facilitar el preprocesamiento de los datos."
   ]
  },
  {
   "cell_type": "code",
   "execution_count": 6,
   "metadata": {},
   "outputs": [],
   "source": [
    "col_dates = ['DateCreated', 'LastSeen']\n",
    "\n",
    "for col in col_dates:\n",
    "    data[col] = pd.to_datetime(data[col] , format='%d/%m/%Y %H:%M').astype('int')"
   ]
  },
  {
   "cell_type": "markdown",
   "metadata": {},
   "source": [
    "Por otro lado podemos considerar a la columna 'PostalCode' como variable categórica, pues los números no representan parámetros cuantitativos."
   ]
  },
  {
   "cell_type": "code",
   "execution_count": 7,
   "metadata": {},
   "outputs": [],
   "source": [
    "data['PostalCode'] = data['PostalCode'].astype('str')"
   ]
  },
  {
   "cell_type": "markdown",
   "metadata": {},
   "source": [
    "La columna 'NotRepaired' puede ser considerada como una categoria ordinal, pues, a grandes rasgos un auto que no ha tenido reparaciones tiene mayor valor en el mercado que un auto con reparaciones. Por lo cual podemos reemplazar los valores 'yes' con 1 y 'no' con 0."
   ]
  },
  {
   "cell_type": "code",
   "execution_count": 8,
   "metadata": {},
   "outputs": [],
   "source": [
    "data['NotRepaired'] = data['NotRepaired'].replace({'yes': 1, 'no':0})"
   ]
  },
  {
   "cell_type": "markdown",
   "metadata": {},
   "source": [
    "### Datos duplicados\n",
    "\n",
    "El número de filas duplicadas es:"
   ]
  },
  {
   "cell_type": "code",
   "execution_count": 9,
   "metadata": {},
   "outputs": [
    {
     "data": {
      "text/plain": [
       "1024"
      ]
     },
     "execution_count": 9,
     "metadata": {},
     "output_type": "execute_result"
    }
   ],
   "source": [
    "data.duplicated().sum()"
   ]
  },
  {
   "cell_type": "markdown",
   "metadata": {},
   "source": [
    "Lo cual representa en porcentaje del total de datos:"
   ]
  },
  {
   "cell_type": "code",
   "execution_count": 10,
   "metadata": {},
   "outputs": [
    {
     "name": "stdout",
     "output_type": "stream",
     "text": [
      "0.29 %\n"
     ]
    }
   ],
   "source": [
    "print(round((data.duplicated().sum() *100) /data.shape[0] ,2), '%')"
   ]
  },
  {
   "cell_type": "markdown",
   "metadata": {},
   "source": [
    "El número de datos duplicados es mínimo respecto a la muestra, por lo cual se procede a descartarlos y reiniciar los índices."
   ]
  },
  {
   "cell_type": "code",
   "execution_count": 11,
   "metadata": {},
   "outputs": [],
   "source": [
    "data = data.drop_duplicates().reset_index(drop=True)"
   ]
  },
  {
   "cell_type": "markdown",
   "metadata": {},
   "source": [
    "### Datos ausentes\n",
    "\n",
    "A continuación se muestra el porcentaje de datos ausentes por columna:"
   ]
  },
  {
   "cell_type": "code",
   "execution_count": 12,
   "metadata": {},
   "outputs": [
    {
     "data": {
      "text/plain": [
       "Price                 0.00\n",
       "VehicleType          10.60\n",
       "RegistrationYear      0.00\n",
       "Gearbox               5.61\n",
       "Power                 0.00\n",
       "Model                 5.57\n",
       "Mileage               0.00\n",
       "RegistrationMonth     0.00\n",
       "FuelType              9.30\n",
       "Brand                 0.00\n",
       "NotRepaired          20.12\n",
       "DateCreated           0.00\n",
       "NumberOfPictures      0.00\n",
       "PostalCode            0.00\n",
       "LastSeen              0.00\n",
       "dtype: float64"
      ]
     },
     "execution_count": 12,
     "metadata": {},
     "output_type": "execute_result"
    }
   ],
   "source": [
    "round(data.isna().sum()/data.shape[0] * 100, 2)"
   ]
  },
  {
   "cell_type": "markdown",
   "metadata": {},
   "source": [
    "Hay campos ausentes en las columnas VehicleType, Gearbox, Model, FuelType, NotRepaired. De estas columnas, las cuatro primeras son categóricas nominales, por lo cual rellenamos los campos con la cadena 'unknown'."
   ]
  },
  {
   "cell_type": "code",
   "execution_count": 13,
   "metadata": {},
   "outputs": [],
   "source": [
    "data[['VehicleType', 'Model', 'FuelType', 'Gearbox']] = data[['VehicleType', 'Model', 'FuelType', 'Gearbox']].fillna(value='unknown')"
   ]
  },
  {
   "cell_type": "markdown",
   "metadata": {},
   "source": [
    "Alrededor del 20% de los valores de la columna NotRepaired están ausentes. En este caso rellenaremos los valores ausentes con el valor -1, asumiendo que el no tener esta información en la publicación afectará negativamente el valor del auto. Una vez que hemos hecho esto podemos cambiar el tipo de dato a entero."
   ]
  },
  {
   "cell_type": "code",
   "execution_count": 14,
   "metadata": {},
   "outputs": [],
   "source": [
    "data['NotRepaired'] = data['NotRepaired'].fillna(value=-1).astype('int')"
   ]
  },
  {
   "cell_type": "markdown",
   "metadata": {},
   "source": [
    "### Descripción de datos\n",
    "\n",
    "A continuación se muestran las estadísticas descriptivas de las columnas numéricas para detectar incongruencias y hacer observaciones generales. "
   ]
  },
  {
   "cell_type": "code",
   "execution_count": 15,
   "metadata": {},
   "outputs": [
    {
     "data": {
      "text/html": [
       "<div>\n",
       "<style scoped>\n",
       "    .dataframe tbody tr th:only-of-type {\n",
       "        vertical-align: middle;\n",
       "    }\n",
       "\n",
       "    .dataframe tbody tr th {\n",
       "        vertical-align: top;\n",
       "    }\n",
       "\n",
       "    .dataframe thead th {\n",
       "        text-align: right;\n",
       "    }\n",
       "</style>\n",
       "<table border=\"1\" class=\"dataframe\">\n",
       "  <thead>\n",
       "    <tr style=\"text-align: right;\">\n",
       "      <th></th>\n",
       "      <th>Price</th>\n",
       "      <th>RegistrationYear</th>\n",
       "      <th>Power</th>\n",
       "      <th>Mileage</th>\n",
       "      <th>RegistrationMonth</th>\n",
       "      <th>NotRepaired</th>\n",
       "      <th>DateCreated</th>\n",
       "      <th>NumberOfPictures</th>\n",
       "      <th>LastSeen</th>\n",
       "    </tr>\n",
       "  </thead>\n",
       "  <tbody>\n",
       "    <tr>\n",
       "      <th>count</th>\n",
       "      <td>353345.000000</td>\n",
       "      <td>353345.000000</td>\n",
       "      <td>353345.000000</td>\n",
       "      <td>353345.000000</td>\n",
       "      <td>353345.000000</td>\n",
       "      <td>353345.000000</td>\n",
       "      <td>3.533450e+05</td>\n",
       "      <td>353345.0</td>\n",
       "      <td>3.533450e+05</td>\n",
       "    </tr>\n",
       "    <tr>\n",
       "      <th>mean</th>\n",
       "      <td>4414.561151</td>\n",
       "      <td>2004.237844</td>\n",
       "      <td>110.075026</td>\n",
       "      <td>128215.936266</td>\n",
       "      <td>5.712963</td>\n",
       "      <td>-0.099365</td>\n",
       "      <td>1.458501e+18</td>\n",
       "      <td>0.0</td>\n",
       "      <td>1.459295e+18</td>\n",
       "    </tr>\n",
       "    <tr>\n",
       "      <th>std</th>\n",
       "      <td>4513.809158</td>\n",
       "      <td>90.357965</td>\n",
       "      <td>190.101226</td>\n",
       "      <td>37909.709558</td>\n",
       "      <td>3.727041</td>\n",
       "      <td>0.541487</td>\n",
       "      <td>8.110154e+14</td>\n",
       "      <td>0.0</td>\n",
       "      <td>7.933409e+14</td>\n",
       "    </tr>\n",
       "    <tr>\n",
       "      <th>min</th>\n",
       "      <td>0.000000</td>\n",
       "      <td>1000.000000</td>\n",
       "      <td>0.000000</td>\n",
       "      <td>5000.000000</td>\n",
       "      <td>0.000000</td>\n",
       "      <td>-1.000000</td>\n",
       "      <td>1.394410e+18</td>\n",
       "      <td>0.0</td>\n",
       "      <td>1.457187e+18</td>\n",
       "    </tr>\n",
       "    <tr>\n",
       "      <th>25%</th>\n",
       "      <td>1050.000000</td>\n",
       "      <td>1999.000000</td>\n",
       "      <td>69.000000</td>\n",
       "      <td>125000.000000</td>\n",
       "      <td>3.000000</td>\n",
       "      <td>0.000000</td>\n",
       "      <td>1.457827e+18</td>\n",
       "      <td>0.0</td>\n",
       "      <td>1.458701e+18</td>\n",
       "    </tr>\n",
       "    <tr>\n",
       "      <th>50%</th>\n",
       "      <td>2700.000000</td>\n",
       "      <td>2003.000000</td>\n",
       "      <td>105.000000</td>\n",
       "      <td>150000.000000</td>\n",
       "      <td>6.000000</td>\n",
       "      <td>0.000000</td>\n",
       "      <td>1.458518e+18</td>\n",
       "      <td>0.0</td>\n",
       "      <td>1.459695e+18</td>\n",
       "    </tr>\n",
       "    <tr>\n",
       "      <th>75%</th>\n",
       "      <td>6400.000000</td>\n",
       "      <td>2008.000000</td>\n",
       "      <td>143.000000</td>\n",
       "      <td>150000.000000</td>\n",
       "      <td>9.000000</td>\n",
       "      <td>0.000000</td>\n",
       "      <td>1.459210e+18</td>\n",
       "      <td>0.0</td>\n",
       "      <td>1.459936e+18</td>\n",
       "    </tr>\n",
       "    <tr>\n",
       "      <th>max</th>\n",
       "      <td>20000.000000</td>\n",
       "      <td>9999.000000</td>\n",
       "      <td>20000.000000</td>\n",
       "      <td>150000.000000</td>\n",
       "      <td>12.000000</td>\n",
       "      <td>1.000000</td>\n",
       "      <td>1.459987e+18</td>\n",
       "      <td>0.0</td>\n",
       "      <td>1.460041e+18</td>\n",
       "    </tr>\n",
       "  </tbody>\n",
       "</table>\n",
       "</div>"
      ],
      "text/plain": [
       "               Price  RegistrationYear          Power        Mileage  \\\n",
       "count  353345.000000     353345.000000  353345.000000  353345.000000   \n",
       "mean     4414.561151       2004.237844     110.075026  128215.936266   \n",
       "std      4513.809158         90.357965     190.101226   37909.709558   \n",
       "min         0.000000       1000.000000       0.000000    5000.000000   \n",
       "25%      1050.000000       1999.000000      69.000000  125000.000000   \n",
       "50%      2700.000000       2003.000000     105.000000  150000.000000   \n",
       "75%      6400.000000       2008.000000     143.000000  150000.000000   \n",
       "max     20000.000000       9999.000000   20000.000000  150000.000000   \n",
       "\n",
       "       RegistrationMonth    NotRepaired   DateCreated  NumberOfPictures  \\\n",
       "count      353345.000000  353345.000000  3.533450e+05          353345.0   \n",
       "mean            5.712963      -0.099365  1.458501e+18               0.0   \n",
       "std             3.727041       0.541487  8.110154e+14               0.0   \n",
       "min             0.000000      -1.000000  1.394410e+18               0.0   \n",
       "25%             3.000000       0.000000  1.457827e+18               0.0   \n",
       "50%             6.000000       0.000000  1.458518e+18               0.0   \n",
       "75%             9.000000       0.000000  1.459210e+18               0.0   \n",
       "max            12.000000       1.000000  1.459987e+18               0.0   \n",
       "\n",
       "           LastSeen  \n",
       "count  3.533450e+05  \n",
       "mean   1.459295e+18  \n",
       "std    7.933409e+14  \n",
       "min    1.457187e+18  \n",
       "25%    1.458701e+18  \n",
       "50%    1.459695e+18  \n",
       "75%    1.459936e+18  \n",
       "max    1.460041e+18  "
      ]
     },
     "execution_count": 15,
     "metadata": {},
     "output_type": "execute_result"
    }
   ],
   "source": [
    "data.describe()"
   ]
  },
  {
   "cell_type": "markdown",
   "metadata": {},
   "source": [
    "A primera vista se detectan las siguientes incongruencias:\n",
    "\n",
    " · Todos los valores de la columna NumberOfPictures son cero.\n",
    " \n",
    " · La columna RegistrationMonth\tva de 0 a 12. No queda claro cuál es el mes 0.\n",
    " \n",
    " · El rango para año de registro de matriculación va de 1000 a 9999. Este rango parece no tener sentido, considerando que las fechas de descarga y última vista sólo van hasta el año 2016.\n",
    " \n",
    " · El valor máximo en la columna Power difere significativamente del resto. La mayoría de los resultados son menores a 150 CV."
   ]
  },
  {
   "cell_type": "markdown",
   "metadata": {},
   "source": [
    "Debido a que la columna NumberOfPictures no aporta información reelevante se procede a descartarla."
   ]
  },
  {
   "cell_type": "code",
   "execution_count": 16,
   "metadata": {},
   "outputs": [],
   "source": [
    "data = data.drop(columns=['NumberOfPictures'])"
   ]
  },
  {
   "cell_type": "markdown",
   "metadata": {},
   "source": [
    "El mes de matriculación tiene sentido para valores de 1 a 12. Es posible que el valor cero represente falta de información. Como el valor no es muy alejado del resto no afecta el escalamiento, por lo tanto se deja así por el momento.\n",
    "\n",
    "Es posible que existan valores anómalos en los años de matriculación, pueden deberse a errores de captura. A continuación se muestran los valores mayores a 2024 y menores a 1800."
   ]
  },
  {
   "cell_type": "code",
   "execution_count": 17,
   "metadata": {},
   "outputs": [
    {
     "data": {
      "text/plain": [
       "166"
      ]
     },
     "execution_count": 17,
     "metadata": {},
     "output_type": "execute_result"
    }
   ],
   "source": [
    "sum(data['RegistrationYear'] > 2024) + sum(data['RegistrationYear'] < 1800)"
   ]
  },
  {
   "cell_type": "markdown",
   "metadata": {},
   "source": [
    "Estos valores son pocos en comparación con la muestra. Además estos datos atípicos pueden afectar el proceso de escalamiento y sesgar los resultados. Por lo tanto se procede a reemplazarlos por la mediana: 2003."
   ]
  },
  {
   "cell_type": "code",
   "execution_count": 18,
   "metadata": {},
   "outputs": [],
   "source": [
    "data['RegistrationYear'] = data['RegistrationYear'].where( (data['RegistrationYear'] < 2024) & (data['RegistrationYear'] >= 1800), other=2003 )"
   ]
  },
  {
   "cell_type": "markdown",
   "metadata": {},
   "source": [
    "A la fecha la potencia máxima de un auto es 5007hp, aproximadamente lo mismo en CV, mientras que los autos con mayor potencia del mercado en la actualidad tienen alrededor de 2300CV. Por lo cual valores superiores deben ser un error. El número de publicaciones con valores superiores son:"
   ]
  },
  {
   "cell_type": "code",
   "execution_count": 19,
   "metadata": {},
   "outputs": [
    {
     "data": {
      "text/plain": [
       "101"
      ]
     },
     "execution_count": 19,
     "metadata": {},
     "output_type": "execute_result"
    }
   ],
   "source": [
    "sum(data['Power'] > 2400) "
   ]
  },
  {
   "cell_type": "markdown",
   "metadata": {},
   "source": [
    "Por las mismas razones de la situación anterior, se reemplazan estos valores por la mediana: 105."
   ]
  },
  {
   "cell_type": "code",
   "execution_count": 20,
   "metadata": {},
   "outputs": [],
   "source": [
    "data['Power'] = data['Power'].where( (data['Power'] < 2400) , other=105 )"
   ]
  },
  {
   "cell_type": "markdown",
   "metadata": {},
   "source": [
    "Una vez hechos los cambios, las estadísticas son:"
   ]
  },
  {
   "cell_type": "code",
   "execution_count": 21,
   "metadata": {},
   "outputs": [
    {
     "data": {
      "text/html": [
       "<div>\n",
       "<style scoped>\n",
       "    .dataframe tbody tr th:only-of-type {\n",
       "        vertical-align: middle;\n",
       "    }\n",
       "\n",
       "    .dataframe tbody tr th {\n",
       "        vertical-align: top;\n",
       "    }\n",
       "\n",
       "    .dataframe thead th {\n",
       "        text-align: right;\n",
       "    }\n",
       "</style>\n",
       "<table border=\"1\" class=\"dataframe\">\n",
       "  <thead>\n",
       "    <tr style=\"text-align: right;\">\n",
       "      <th></th>\n",
       "      <th>Price</th>\n",
       "      <th>RegistrationYear</th>\n",
       "      <th>Power</th>\n",
       "      <th>Mileage</th>\n",
       "      <th>RegistrationMonth</th>\n",
       "      <th>NotRepaired</th>\n",
       "      <th>DateCreated</th>\n",
       "      <th>LastSeen</th>\n",
       "    </tr>\n",
       "  </thead>\n",
       "  <tbody>\n",
       "    <tr>\n",
       "      <th>count</th>\n",
       "      <td>353345.000000</td>\n",
       "      <td>353345.00000</td>\n",
       "      <td>353345.000000</td>\n",
       "      <td>353345.000000</td>\n",
       "      <td>353345.000000</td>\n",
       "      <td>353345.000000</td>\n",
       "      <td>3.533450e+05</td>\n",
       "      <td>3.533450e+05</td>\n",
       "    </tr>\n",
       "    <tr>\n",
       "      <th>mean</th>\n",
       "      <td>4414.561151</td>\n",
       "      <td>2003.08194</td>\n",
       "      <td>107.413423</td>\n",
       "      <td>128215.936266</td>\n",
       "      <td>5.712963</td>\n",
       "      <td>-0.099365</td>\n",
       "      <td>1.458501e+18</td>\n",
       "      <td>1.459295e+18</td>\n",
       "    </tr>\n",
       "    <tr>\n",
       "      <th>std</th>\n",
       "      <td>4513.809158</td>\n",
       "      <td>7.57672</td>\n",
       "      <td>73.189344</td>\n",
       "      <td>37909.709558</td>\n",
       "      <td>3.727041</td>\n",
       "      <td>0.541487</td>\n",
       "      <td>8.110154e+14</td>\n",
       "      <td>7.933409e+14</td>\n",
       "    </tr>\n",
       "    <tr>\n",
       "      <th>min</th>\n",
       "      <td>0.000000</td>\n",
       "      <td>1800.00000</td>\n",
       "      <td>0.000000</td>\n",
       "      <td>5000.000000</td>\n",
       "      <td>0.000000</td>\n",
       "      <td>-1.000000</td>\n",
       "      <td>1.394410e+18</td>\n",
       "      <td>1.457187e+18</td>\n",
       "    </tr>\n",
       "    <tr>\n",
       "      <th>25%</th>\n",
       "      <td>1050.000000</td>\n",
       "      <td>1999.00000</td>\n",
       "      <td>69.000000</td>\n",
       "      <td>125000.000000</td>\n",
       "      <td>3.000000</td>\n",
       "      <td>0.000000</td>\n",
       "      <td>1.457827e+18</td>\n",
       "      <td>1.458701e+18</td>\n",
       "    </tr>\n",
       "    <tr>\n",
       "      <th>50%</th>\n",
       "      <td>2700.000000</td>\n",
       "      <td>2003.00000</td>\n",
       "      <td>105.000000</td>\n",
       "      <td>150000.000000</td>\n",
       "      <td>6.000000</td>\n",
       "      <td>0.000000</td>\n",
       "      <td>1.458518e+18</td>\n",
       "      <td>1.459695e+18</td>\n",
       "    </tr>\n",
       "    <tr>\n",
       "      <th>75%</th>\n",
       "      <td>6400.000000</td>\n",
       "      <td>2008.00000</td>\n",
       "      <td>142.000000</td>\n",
       "      <td>150000.000000</td>\n",
       "      <td>9.000000</td>\n",
       "      <td>0.000000</td>\n",
       "      <td>1.459210e+18</td>\n",
       "      <td>1.459936e+18</td>\n",
       "    </tr>\n",
       "    <tr>\n",
       "      <th>max</th>\n",
       "      <td>20000.000000</td>\n",
       "      <td>2019.00000</td>\n",
       "      <td>2389.000000</td>\n",
       "      <td>150000.000000</td>\n",
       "      <td>12.000000</td>\n",
       "      <td>1.000000</td>\n",
       "      <td>1.459987e+18</td>\n",
       "      <td>1.460041e+18</td>\n",
       "    </tr>\n",
       "  </tbody>\n",
       "</table>\n",
       "</div>"
      ],
      "text/plain": [
       "               Price  RegistrationYear          Power        Mileage  \\\n",
       "count  353345.000000      353345.00000  353345.000000  353345.000000   \n",
       "mean     4414.561151        2003.08194     107.413423  128215.936266   \n",
       "std      4513.809158           7.57672      73.189344   37909.709558   \n",
       "min         0.000000        1800.00000       0.000000    5000.000000   \n",
       "25%      1050.000000        1999.00000      69.000000  125000.000000   \n",
       "50%      2700.000000        2003.00000     105.000000  150000.000000   \n",
       "75%      6400.000000        2008.00000     142.000000  150000.000000   \n",
       "max     20000.000000        2019.00000    2389.000000  150000.000000   \n",
       "\n",
       "       RegistrationMonth    NotRepaired   DateCreated      LastSeen  \n",
       "count      353345.000000  353345.000000  3.533450e+05  3.533450e+05  \n",
       "mean            5.712963      -0.099365  1.458501e+18  1.459295e+18  \n",
       "std             3.727041       0.541487  8.110154e+14  7.933409e+14  \n",
       "min             0.000000      -1.000000  1.394410e+18  1.457187e+18  \n",
       "25%             3.000000       0.000000  1.457827e+18  1.458701e+18  \n",
       "50%             6.000000       0.000000  1.458518e+18  1.459695e+18  \n",
       "75%             9.000000       0.000000  1.459210e+18  1.459936e+18  \n",
       "max            12.000000       1.000000  1.459987e+18  1.460041e+18  "
      ]
     },
     "execution_count": 21,
     "metadata": {},
     "output_type": "execute_result"
    }
   ],
   "source": [
    "data.describe()"
   ]
  },
  {
   "cell_type": "markdown",
   "metadata": {},
   "source": [
    "El precio de los vehículos va de 0 a 20,000 euros. El precio promedio ronda los 4 mil euros. Los datos de precio parecen congruentes.\n",
    "\n",
    "Los autos registrados tienen kilometraje que va desde los 5,000 a 150,000 kilómetros. El promedio ronda los 13 mil km.\n",
    "\n",
    "El resto de las columnas ahora tienen valores congruentes.\n",
    "\n",
    "Finalmente se muestran las estadísticas de las columnas categóricas. "
   ]
  },
  {
   "cell_type": "code",
   "execution_count": 22,
   "metadata": {},
   "outputs": [
    {
     "data": {
      "text/html": [
       "<div>\n",
       "<style scoped>\n",
       "    .dataframe tbody tr th:only-of-type {\n",
       "        vertical-align: middle;\n",
       "    }\n",
       "\n",
       "    .dataframe tbody tr th {\n",
       "        vertical-align: top;\n",
       "    }\n",
       "\n",
       "    .dataframe thead th {\n",
       "        text-align: right;\n",
       "    }\n",
       "</style>\n",
       "<table border=\"1\" class=\"dataframe\">\n",
       "  <thead>\n",
       "    <tr style=\"text-align: right;\">\n",
       "      <th></th>\n",
       "      <th>VehicleType</th>\n",
       "      <th>Gearbox</th>\n",
       "      <th>Model</th>\n",
       "      <th>FuelType</th>\n",
       "      <th>Brand</th>\n",
       "      <th>PostalCode</th>\n",
       "    </tr>\n",
       "  </thead>\n",
       "  <tbody>\n",
       "    <tr>\n",
       "      <th>count</th>\n",
       "      <td>353345</td>\n",
       "      <td>353345</td>\n",
       "      <td>353345</td>\n",
       "      <td>353345</td>\n",
       "      <td>353345</td>\n",
       "      <td>353345</td>\n",
       "    </tr>\n",
       "    <tr>\n",
       "      <th>unique</th>\n",
       "      <td>9</td>\n",
       "      <td>3</td>\n",
       "      <td>251</td>\n",
       "      <td>8</td>\n",
       "      <td>40</td>\n",
       "      <td>8143</td>\n",
       "    </tr>\n",
       "    <tr>\n",
       "      <th>top</th>\n",
       "      <td>sedan</td>\n",
       "      <td>manual</td>\n",
       "      <td>golf</td>\n",
       "      <td>petrol</td>\n",
       "      <td>volkswagen</td>\n",
       "      <td>10115</td>\n",
       "    </tr>\n",
       "    <tr>\n",
       "      <th>freq</th>\n",
       "      <td>91177</td>\n",
       "      <td>267440</td>\n",
       "      <td>29156</td>\n",
       "      <td>215639</td>\n",
       "      <td>76790</td>\n",
       "      <td>819</td>\n",
       "    </tr>\n",
       "  </tbody>\n",
       "</table>\n",
       "</div>"
      ],
      "text/plain": [
       "       VehicleType Gearbox   Model FuelType       Brand PostalCode\n",
       "count       353345  353345  353345   353345      353345     353345\n",
       "unique           9       3     251        8          40       8143\n",
       "top          sedan  manual    golf   petrol  volkswagen      10115\n",
       "freq         91177  267440   29156   215639       76790        819"
      ]
     },
     "execution_count": 22,
     "metadata": {},
     "output_type": "execute_result"
    }
   ],
   "source": [
    "data.describe(include=np.object)"
   ]
  },
  {
   "cell_type": "markdown",
   "metadata": {},
   "source": [
    "Se registran 9 tipos de vehículo, 3 tipos de caja de cambio, 251 modelos, 40 marcas, 8 tipos de combustible y 8143 códigos postales."
   ]
  },
  {
   "cell_type": "markdown",
   "metadata": {},
   "source": [
    "En resumen, hemos cambiado las columnas correspondientes a fechas a tipo datetime, la columna correspondiente a tcódigo postal a tipo objeto, la columna 'NotRepaired' a tipo entero cambiando los valores 'sí' como 1, 'no' como 0, y ausentes como -1. \n",
    "\n",
    "Hemos rellenado los valores ausentes de las columnas 'VehicleType', 'Model', 'FuelType', 'Gearbox' con la cadena 'unknown'. \n",
    "\n",
    "Se removieron 269 datos duplicados, lo cual representa 0.07% del total de datos.\n",
    "\n",
    "Se removieron datos anómalos de las columnas 'RegistrationYear' y 'Power'y se reemplazaron por sus respectivas medianas. \n",
    "\n",
    "Se descartó la columna 'NumberOfPictures' pues todos los valores eran iguales a cero y la columna 'DateCrawled' por no aportar información reelevante para la predicción de precios.\n",
    "\n",
    "Una vez realizados los cambios el dataframe queda así:"
   ]
  },
  {
   "cell_type": "code",
   "execution_count": 23,
   "metadata": {},
   "outputs": [
    {
     "name": "stdout",
     "output_type": "stream",
     "text": [
      "<class 'pandas.core.frame.DataFrame'>\n",
      "RangeIndex: 353345 entries, 0 to 353344\n",
      "Data columns (total 14 columns):\n",
      " #   Column             Non-Null Count   Dtype \n",
      "---  ------             --------------   ----- \n",
      " 0   Price              353345 non-null  int64 \n",
      " 1   VehicleType        353345 non-null  object\n",
      " 2   RegistrationYear   353345 non-null  int64 \n",
      " 3   Gearbox            353345 non-null  object\n",
      " 4   Power              353345 non-null  int64 \n",
      " 5   Model              353345 non-null  object\n",
      " 6   Mileage            353345 non-null  int64 \n",
      " 7   RegistrationMonth  353345 non-null  int64 \n",
      " 8   FuelType           353345 non-null  object\n",
      " 9   Brand              353345 non-null  object\n",
      " 10  NotRepaired        353345 non-null  int64 \n",
      " 11  DateCreated        353345 non-null  int64 \n",
      " 12  PostalCode         353345 non-null  object\n",
      " 13  LastSeen           353345 non-null  int64 \n",
      "dtypes: int64(8), object(6)\n",
      "memory usage: 37.7+ MB\n"
     ]
    }
   ],
   "source": [
    "data.info()"
   ]
  },
  {
   "cell_type": "code",
   "execution_count": 24,
   "metadata": {},
   "outputs": [
    {
     "data": {
      "text/html": [
       "<div>\n",
       "<style scoped>\n",
       "    .dataframe tbody tr th:only-of-type {\n",
       "        vertical-align: middle;\n",
       "    }\n",
       "\n",
       "    .dataframe tbody tr th {\n",
       "        vertical-align: top;\n",
       "    }\n",
       "\n",
       "    .dataframe thead th {\n",
       "        text-align: right;\n",
       "    }\n",
       "</style>\n",
       "<table border=\"1\" class=\"dataframe\">\n",
       "  <thead>\n",
       "    <tr style=\"text-align: right;\">\n",
       "      <th></th>\n",
       "      <th>Price</th>\n",
       "      <th>VehicleType</th>\n",
       "      <th>RegistrationYear</th>\n",
       "      <th>Gearbox</th>\n",
       "      <th>Power</th>\n",
       "      <th>Model</th>\n",
       "      <th>Mileage</th>\n",
       "      <th>RegistrationMonth</th>\n",
       "      <th>FuelType</th>\n",
       "      <th>Brand</th>\n",
       "      <th>NotRepaired</th>\n",
       "      <th>DateCreated</th>\n",
       "      <th>PostalCode</th>\n",
       "      <th>LastSeen</th>\n",
       "    </tr>\n",
       "  </thead>\n",
       "  <tbody>\n",
       "    <tr>\n",
       "      <th>0</th>\n",
       "      <td>480</td>\n",
       "      <td>unknown</td>\n",
       "      <td>1993</td>\n",
       "      <td>manual</td>\n",
       "      <td>0</td>\n",
       "      <td>golf</td>\n",
       "      <td>150000</td>\n",
       "      <td>0</td>\n",
       "      <td>petrol</td>\n",
       "      <td>volkswagen</td>\n",
       "      <td>-1</td>\n",
       "      <td>1458777600000000000</td>\n",
       "      <td>70435</td>\n",
       "      <td>1459998960000000000</td>\n",
       "    </tr>\n",
       "    <tr>\n",
       "      <th>1</th>\n",
       "      <td>18300</td>\n",
       "      <td>coupe</td>\n",
       "      <td>2011</td>\n",
       "      <td>manual</td>\n",
       "      <td>190</td>\n",
       "      <td>unknown</td>\n",
       "      <td>125000</td>\n",
       "      <td>5</td>\n",
       "      <td>gasoline</td>\n",
       "      <td>audi</td>\n",
       "      <td>1</td>\n",
       "      <td>1458777600000000000</td>\n",
       "      <td>66954</td>\n",
       "      <td>1459993560000000000</td>\n",
       "    </tr>\n",
       "    <tr>\n",
       "      <th>2</th>\n",
       "      <td>9800</td>\n",
       "      <td>suv</td>\n",
       "      <td>2004</td>\n",
       "      <td>auto</td>\n",
       "      <td>163</td>\n",
       "      <td>grand</td>\n",
       "      <td>125000</td>\n",
       "      <td>8</td>\n",
       "      <td>gasoline</td>\n",
       "      <td>jeep</td>\n",
       "      <td>-1</td>\n",
       "      <td>1457913600000000000</td>\n",
       "      <td>90480</td>\n",
       "      <td>1459860420000000000</td>\n",
       "    </tr>\n",
       "    <tr>\n",
       "      <th>3</th>\n",
       "      <td>1500</td>\n",
       "      <td>small</td>\n",
       "      <td>2001</td>\n",
       "      <td>manual</td>\n",
       "      <td>75</td>\n",
       "      <td>golf</td>\n",
       "      <td>150000</td>\n",
       "      <td>6</td>\n",
       "      <td>petrol</td>\n",
       "      <td>volkswagen</td>\n",
       "      <td>0</td>\n",
       "      <td>1458172800000000000</td>\n",
       "      <td>91074</td>\n",
       "      <td>1458236400000000000</td>\n",
       "    </tr>\n",
       "    <tr>\n",
       "      <th>4</th>\n",
       "      <td>3600</td>\n",
       "      <td>small</td>\n",
       "      <td>2008</td>\n",
       "      <td>manual</td>\n",
       "      <td>69</td>\n",
       "      <td>fabia</td>\n",
       "      <td>90000</td>\n",
       "      <td>7</td>\n",
       "      <td>gasoline</td>\n",
       "      <td>skoda</td>\n",
       "      <td>0</td>\n",
       "      <td>1459382400000000000</td>\n",
       "      <td>60437</td>\n",
       "      <td>1459937820000000000</td>\n",
       "    </tr>\n",
       "  </tbody>\n",
       "</table>\n",
       "</div>"
      ],
      "text/plain": [
       "   Price VehicleType  RegistrationYear Gearbox  Power    Model  Mileage  \\\n",
       "0    480     unknown              1993  manual      0     golf   150000   \n",
       "1  18300       coupe              2011  manual    190  unknown   125000   \n",
       "2   9800         suv              2004    auto    163    grand   125000   \n",
       "3   1500       small              2001  manual     75     golf   150000   \n",
       "4   3600       small              2008  manual     69    fabia    90000   \n",
       "\n",
       "   RegistrationMonth  FuelType       Brand  NotRepaired          DateCreated  \\\n",
       "0                  0    petrol  volkswagen           -1  1458777600000000000   \n",
       "1                  5  gasoline        audi            1  1458777600000000000   \n",
       "2                  8  gasoline        jeep           -1  1457913600000000000   \n",
       "3                  6    petrol  volkswagen            0  1458172800000000000   \n",
       "4                  7  gasoline       skoda            0  1459382400000000000   \n",
       "\n",
       "  PostalCode             LastSeen  \n",
       "0      70435  1459998960000000000  \n",
       "1      66954  1459993560000000000  \n",
       "2      90480  1459860420000000000  \n",
       "3      91074  1458236400000000000  \n",
       "4      60437  1459937820000000000  "
      ]
     },
     "execution_count": 24,
     "metadata": {},
     "output_type": "execute_result"
    }
   ],
   "source": [
    "data.head()"
   ]
  },
  {
   "cell_type": "markdown",
   "metadata": {},
   "source": [
    "## Preparación de datos\n",
    "\n",
    "Se muestran las todas las columnas del dataframe."
   ]
  },
  {
   "cell_type": "code",
   "execution_count": 25,
   "metadata": {},
   "outputs": [
    {
     "data": {
      "text/plain": [
       "Index(['Price', 'VehicleType', 'RegistrationYear', 'Gearbox', 'Power', 'Model',\n",
       "       'Mileage', 'RegistrationMonth', 'FuelType', 'Brand', 'NotRepaired',\n",
       "       'DateCreated', 'PostalCode', 'LastSeen'],\n",
       "      dtype='object')"
      ]
     },
     "execution_count": 25,
     "metadata": {},
     "output_type": "execute_result"
    }
   ],
   "source": [
    "data.columns"
   ]
  },
  {
   "cell_type": "markdown",
   "metadata": {},
   "source": [
    "Se definien el objetivo y las características:"
   ]
  },
  {
   "cell_type": "code",
   "execution_count": 26,
   "metadata": {},
   "outputs": [],
   "source": [
    "y = data['Price']\n",
    "X = data.drop(columns=['Price'])"
   ]
  },
  {
   "cell_type": "markdown",
   "metadata": {},
   "source": [
    "A su vez podemos separar las características en categóricas y numéricas."
   ]
  },
  {
   "cell_type": "code",
   "execution_count": 27,
   "metadata": {},
   "outputs": [],
   "source": [
    "numeric = ['RegistrationYear', 'Power', 'Mileage', 'RegistrationMonth', 'DateCreated', 'NotRepaired',  'LastSeen']\n",
    "categoric = ['VehicleType', 'Gearbox', 'Model', 'FuelType' , 'Brand' , 'PostalCode' ]"
   ]
  },
  {
   "cell_type": "markdown",
   "metadata": {},
   "source": [
    "### Estandarización.\n",
    "\n",
    "Para facilitar la interpretabilidad de los resultados de la regresión lineal y  para facilitar el procesamiento de los modelos por árboles, se realiza el proceso de escalamiento. \n",
    "\n",
    "Se utiliza el algoritmo MinMaxScaler para preservar las disribuciones originales en lugar de normalizarlas."
   ]
  },
  {
   "cell_type": "code",
   "execution_count": 28,
   "metadata": {},
   "outputs": [],
   "source": [
    "scaler = MinMaxScaler() #escalamiento\n",
    "\n",
    "X_scaled = X.copy()\n",
    "X_scaled[numeric] = scaler.fit_transform(X[numeric])"
   ]
  },
  {
   "cell_type": "markdown",
   "metadata": {},
   "source": [
    "### Codificación\n",
    "\n",
    "Para la regresión lineal utilizaremos la codificación One-Hot. Pero no se tomará en cuenta el Código Postal, debido a que tomaría exceso de recursos computacionales. "
   ]
  },
  {
   "cell_type": "code",
   "execution_count": 29,
   "metadata": {},
   "outputs": [],
   "source": [
    "X_ohe = pd.get_dummies(X_scaled.drop(columns=['PostalCode']), drop_first=True)"
   ]
  },
  {
   "cell_type": "markdown",
   "metadata": {},
   "source": [
    "Para el resto de los modelos se utiliza la codificación de etiquetas."
   ]
  },
  {
   "cell_type": "code",
   "execution_count": 30,
   "metadata": {},
   "outputs": [],
   "source": [
    "encoder = OrdinalEncoder()\n",
    "\n",
    "X_enc = pd.DataFrame(encoder.fit_transform(X_scaled), columns=X.columns)"
   ]
  },
  {
   "cell_type": "markdown",
   "metadata": {},
   "source": [
    "### Segmentación"
   ]
  },
  {
   "cell_type": "markdown",
   "metadata": {},
   "source": [
    "Una vez que se han codificado y escalado las características, se procede a hacer la segmentación en un conjunto de entrenamiento, validación y prueba. El conjunto de entrenamiento consta del 60% de los datos y los conjuntos de validación y pueba 20% cada uno. Haremos esto para cada tipo de codificación."
   ]
  },
  {
   "cell_type": "code",
   "execution_count": 31,
   "metadata": {},
   "outputs": [],
   "source": [
    "X_train_ohe , X_left_ohe, X_train_enc , X_left_enc, y_train, y_left = train_test_split(\n",
    "        X_ohe, X_enc, y, test_size=0.4, random_state=12345)\n",
    "    \n",
    "X_valid_ohe, X_test_ohe, X_valid_enc, X_test_enc, y_valid, y_test =  train_test_split(\n",
    "        X_left_ohe, X_left_enc, y_left, test_size=0.5, random_state=12345)"
   ]
  },
  {
   "cell_type": "markdown",
   "metadata": {},
   "source": [
    "Definimos listas con los modelos y las métricas de interés. Se caculan la Raíz del Error Cuadrático Medio, el Score R2 para medir la calidad del modelo y el tiempo de entrenamiento y predicción para medir la rapidez."
   ]
  },
  {
   "cell_type": "code",
   "execution_count": 32,
   "metadata": {},
   "outputs": [],
   "source": [
    "models = ['LinearRegression', 'DecisionTreeRegressor', 'RandomForestRegressor', 'GradientBoosting']\n",
    "metrics = ['TrainingTime(s)', 'PredictionTime(s)', 'RMSE', 'R2score']\n",
    "\n",
    "validation = pd.DataFrame(columns=metrics, index=models)"
   ]
  },
  {
   "cell_type": "markdown",
   "metadata": {},
   "source": [
    "Se define una función para calcular las métricas. "
   ]
  },
  {
   "cell_type": "code",
   "execution_count": 33,
   "metadata": {},
   "outputs": [],
   "source": [
    "def evaluate(y_valid, predicted_valid):\n",
    "    #Evaluación\n",
    "    #---------------------------------------------------\n",
    "    rmse = math.sqrt(mean_squared_error(y_valid, predicted_valid)) #RECM\n",
    "    r2 = r2_score(y_valid, predicted_valid)  #Score R2\n",
    "    \n",
    "    return rmse, r2"
   ]
  },
  {
   "cell_type": "markdown",
   "metadata": {},
   "source": [
    "Se define una función para entrenar, predecir y evaluar los modelos, esta función también calcula el tiempo de entrenamiento y el tiempo de predicción."
   ]
  },
  {
   "cell_type": "code",
   "execution_count": 34,
   "metadata": {},
   "outputs": [],
   "source": [
    "def train_predict_evaluate(model, X_train, y_train, X_valid, y_valid):\n",
    "    \n",
    "    # Entrenamiento\n",
    "    #--------------------------------------------------    \n",
    "    start_time = time.time() #empieza a contar el tiempo\n",
    "    model.fit(X_train, y_train)\n",
    "    train_time = time.time() #marca el tiempo en que finaliza el entrenamiento\n",
    "    \n",
    "    #Precicciones\n",
    "    #--------------------------------------------------\n",
    "    predicted_valid = model.predict(X_valid) #realiza la predicción\n",
    "    prediction_time = time.time() #marca el tiempo en que finaliza la predicción\n",
    "    \n",
    "    #evaluación\n",
    "    rmse, r2 = evaluate(y_valid, predicted_valid)\n",
    "    \n",
    "    #tiempos de entrenamiento y predicción\n",
    "    ttime = train_time - start_time\n",
    "    ptime = prediction_time - train_time\n",
    "    \n",
    "    return [ttime, ptime, rmse, r2]"
   ]
  },
  {
   "cell_type": "markdown",
   "metadata": {},
   "source": [
    "## Prueba de cordura\n",
    "\n",
    "Iniciamos con un modelo de Regresión Lineal. Primero se escalan los datos para ayudar a la interpretabilidad de los resultados. Posteriormente se realiza una codificación One-Hot para las columnas categóricas, se excluye la columna 'PostalCode' pues esto aumentarí la cardinalidad de los datos y por lo tanto el tiempo de ejecución."
   ]
  },
  {
   "cell_type": "code",
   "execution_count": 35,
   "metadata": {},
   "outputs": [],
   "source": [
    "lr = LinearRegression()\n",
    "\n",
    "validation.loc['LinearRegression'] = train_predict_evaluate(lr, X_train_ohe, y_train, X_valid_ohe, y_valid)"
   ]
  },
  {
   "cell_type": "markdown",
   "metadata": {},
   "source": [
    "Se muestran los resultados."
   ]
  },
  {
   "cell_type": "code",
   "execution_count": 36,
   "metadata": {},
   "outputs": [
    {
     "data": {
      "text/html": [
       "<div>\n",
       "<style scoped>\n",
       "    .dataframe tbody tr th:only-of-type {\n",
       "        vertical-align: middle;\n",
       "    }\n",
       "\n",
       "    .dataframe tbody tr th {\n",
       "        vertical-align: top;\n",
       "    }\n",
       "\n",
       "    .dataframe thead th {\n",
       "        text-align: right;\n",
       "    }\n",
       "</style>\n",
       "<table border=\"1\" class=\"dataframe\">\n",
       "  <thead>\n",
       "    <tr style=\"text-align: right;\">\n",
       "      <th></th>\n",
       "      <th>TrainingTime(s)</th>\n",
       "      <th>PredictionTime(s)</th>\n",
       "      <th>RMSE</th>\n",
       "      <th>R2score</th>\n",
       "    </tr>\n",
       "  </thead>\n",
       "  <tbody>\n",
       "    <tr>\n",
       "      <th>LinearRegression</th>\n",
       "      <td>25.3866</td>\n",
       "      <td>0.425113</td>\n",
       "      <td>2832.17</td>\n",
       "      <td>0.602271</td>\n",
       "    </tr>\n",
       "  </tbody>\n",
       "</table>\n",
       "</div>"
      ],
      "text/plain": [
       "                 TrainingTime(s) PredictionTime(s)     RMSE   R2score\n",
       "LinearRegression         25.3866          0.425113  2832.17  0.602271"
      ]
     },
     "execution_count": 36,
     "metadata": {},
     "output_type": "execute_result"
    }
   ],
   "source": [
    "validation.head(1)"
   ]
  },
  {
   "cell_type": "markdown",
   "metadata": {},
   "source": [
    "El modelo de regresión lineal obtiene un score R2 moderado 0.6 y un RECM de 2832 de manera que nuestro modelo puede mejorar."
   ]
  },
  {
   "cell_type": "markdown",
   "metadata": {},
   "source": [
    "## Optimización de hiperparámetros\n",
    "\n",
    "En esta sección encontraremos los hiperparámetros óptimos para los modelos de Árbol de Decisión, Bosque Aleatorio y Potenciación de Gradiente. "
   ]
  },
  {
   "cell_type": "markdown",
   "metadata": {},
   "source": [
    "### Árbol de Decisión\n",
    "\n",
    "Se entrena, predice y obtienen métricas variando la profundidad máxima entre 1 y 14, para encontrar el valor óptimo de este hiperparámetro. "
   ]
  },
  {
   "cell_type": "code",
   "execution_count": 37,
   "metadata": {},
   "outputs": [],
   "source": [
    "tree_results = pd.DataFrame(columns=metrics , index=range(1,16))\n",
    "tree_results.index.name = 'Depth'\n",
    "\n",
    "for depth in tree_results.index :\n",
    "    \n",
    "    tree = DecisionTreeRegressor(max_depth=depth , random_state=12345)\n",
    "    \n",
    "    tree_results.loc[depth]= train_predict_evaluate(tree, X_train_enc, y_train, X_valid_enc, y_valid)"
   ]
  },
  {
   "cell_type": "markdown",
   "metadata": {},
   "source": [
    "Se muestran los resultados."
   ]
  },
  {
   "cell_type": "code",
   "execution_count": 38,
   "metadata": {},
   "outputs": [
    {
     "data": {
      "text/html": [
       "<div>\n",
       "<style scoped>\n",
       "    .dataframe tbody tr th:only-of-type {\n",
       "        vertical-align: middle;\n",
       "    }\n",
       "\n",
       "    .dataframe tbody tr th {\n",
       "        vertical-align: top;\n",
       "    }\n",
       "\n",
       "    .dataframe thead th {\n",
       "        text-align: right;\n",
       "    }\n",
       "</style>\n",
       "<table border=\"1\" class=\"dataframe\">\n",
       "  <thead>\n",
       "    <tr style=\"text-align: right;\">\n",
       "      <th></th>\n",
       "      <th>TrainingTime(s)</th>\n",
       "      <th>PredictionTime(s)</th>\n",
       "      <th>RMSE</th>\n",
       "      <th>R2score</th>\n",
       "    </tr>\n",
       "    <tr>\n",
       "      <th>Depth</th>\n",
       "      <th></th>\n",
       "      <th></th>\n",
       "      <th></th>\n",
       "      <th></th>\n",
       "    </tr>\n",
       "  </thead>\n",
       "  <tbody>\n",
       "    <tr>\n",
       "      <th>1</th>\n",
       "      <td>0.426819</td>\n",
       "      <td>0.0371771</td>\n",
       "      <td>3783.36</td>\n",
       "      <td>0.29025</td>\n",
       "    </tr>\n",
       "    <tr>\n",
       "      <th>2</th>\n",
       "      <td>0.579127</td>\n",
       "      <td>0.0170233</td>\n",
       "      <td>3287.34</td>\n",
       "      <td>0.464154</td>\n",
       "    </tr>\n",
       "    <tr>\n",
       "      <th>3</th>\n",
       "      <td>0.857095</td>\n",
       "      <td>0.0154641</td>\n",
       "      <td>3024.05</td>\n",
       "      <td>0.546551</td>\n",
       "    </tr>\n",
       "    <tr>\n",
       "      <th>4</th>\n",
       "      <td>1.09312</td>\n",
       "      <td>0.016727</td>\n",
       "      <td>2750.73</td>\n",
       "      <td>0.624815</td>\n",
       "    </tr>\n",
       "    <tr>\n",
       "      <th>5</th>\n",
       "      <td>1.3422</td>\n",
       "      <td>0.0197852</td>\n",
       "      <td>2552.9</td>\n",
       "      <td>0.67684</td>\n",
       "    </tr>\n",
       "    <tr>\n",
       "      <th>6</th>\n",
       "      <td>1.64326</td>\n",
       "      <td>0.0205219</td>\n",
       "      <td>2418.26</td>\n",
       "      <td>0.710027</td>\n",
       "    </tr>\n",
       "    <tr>\n",
       "      <th>7</th>\n",
       "      <td>1.9011</td>\n",
       "      <td>0.023464</td>\n",
       "      <td>2300.24</td>\n",
       "      <td>0.73764</td>\n",
       "    </tr>\n",
       "    <tr>\n",
       "      <th>8</th>\n",
       "      <td>2.08819</td>\n",
       "      <td>0.0206928</td>\n",
       "      <td>2225.32</td>\n",
       "      <td>0.754452</td>\n",
       "    </tr>\n",
       "    <tr>\n",
       "      <th>9</th>\n",
       "      <td>2.51085</td>\n",
       "      <td>0.02209</td>\n",
       "      <td>2168.89</td>\n",
       "      <td>0.766749</td>\n",
       "    </tr>\n",
       "    <tr>\n",
       "      <th>10</th>\n",
       "      <td>2.72315</td>\n",
       "      <td>0.023716</td>\n",
       "      <td>2128.53</td>\n",
       "      <td>0.775349</td>\n",
       "    </tr>\n",
       "    <tr>\n",
       "      <th>11</th>\n",
       "      <td>5.41341</td>\n",
       "      <td>0.0309961</td>\n",
       "      <td>2110.27</td>\n",
       "      <td>0.779185</td>\n",
       "    </tr>\n",
       "    <tr>\n",
       "      <th>12</th>\n",
       "      <td>5.34806</td>\n",
       "      <td>0.134203</td>\n",
       "      <td>2100.81</td>\n",
       "      <td>0.781162</td>\n",
       "    </tr>\n",
       "    <tr>\n",
       "      <th>13</th>\n",
       "      <td>3.9187</td>\n",
       "      <td>0.0294919</td>\n",
       "      <td>2123.66</td>\n",
       "      <td>0.776375</td>\n",
       "    </tr>\n",
       "    <tr>\n",
       "      <th>14</th>\n",
       "      <td>4.33821</td>\n",
       "      <td>0.046144</td>\n",
       "      <td>2164.48</td>\n",
       "      <td>0.767696</td>\n",
       "    </tr>\n",
       "    <tr>\n",
       "      <th>15</th>\n",
       "      <td>4.80693</td>\n",
       "      <td>0.0371039</td>\n",
       "      <td>2196.51</td>\n",
       "      <td>0.760768</td>\n",
       "    </tr>\n",
       "  </tbody>\n",
       "</table>\n",
       "</div>"
      ],
      "text/plain": [
       "      TrainingTime(s) PredictionTime(s)     RMSE   R2score\n",
       "Depth                                                     \n",
       "1            0.426819         0.0371771  3783.36   0.29025\n",
       "2            0.579127         0.0170233  3287.34  0.464154\n",
       "3            0.857095         0.0154641  3024.05  0.546551\n",
       "4             1.09312          0.016727  2750.73  0.624815\n",
       "5              1.3422         0.0197852   2552.9   0.67684\n",
       "6             1.64326         0.0205219  2418.26  0.710027\n",
       "7              1.9011          0.023464  2300.24   0.73764\n",
       "8             2.08819         0.0206928  2225.32  0.754452\n",
       "9             2.51085           0.02209  2168.89  0.766749\n",
       "10            2.72315          0.023716  2128.53  0.775349\n",
       "11            5.41341         0.0309961  2110.27  0.779185\n",
       "12            5.34806          0.134203  2100.81  0.781162\n",
       "13             3.9187         0.0294919  2123.66  0.776375\n",
       "14            4.33821          0.046144  2164.48  0.767696\n",
       "15            4.80693         0.0371039  2196.51  0.760768"
      ]
     },
     "execution_count": 38,
     "metadata": {},
     "output_type": "execute_result"
    }
   ],
   "source": [
    "tree_results"
   ]
  },
  {
   "cell_type": "markdown",
   "metadata": {},
   "source": [
    "La siguiente gráfica ayudará a interpretar los resultados."
   ]
  },
  {
   "cell_type": "code",
   "execution_count": 39,
   "metadata": {},
   "outputs": [
    {
     "data": {
      "image/png": "[encoded data removed]",
      "text/plain": [
       "<Figure size 720x432 with 1 Axes>"
      ]
     },
     "metadata": {
      "needs_background": "light"
     },
     "output_type": "display_data"
    }
   ],
   "source": [
    "fig, axs = plt.subplots(figsize=(10, 6))\n",
    "\n",
    "sns.scatterplot(data=tree_results, x='RMSE', y='PredictionTime(s)', legend=False)\n",
    "\n",
    "for count in tree_results.index:\n",
    "    \n",
    "    plt.text(x = tree_results.loc[count]['RMSE'] + 10 , \n",
    "             y = tree_results.loc[count]['PredictionTime(s)'] , \n",
    "             s = str(count))"
   ]
  },
  {
   "cell_type": "markdown",
   "metadata": {},
   "source": [
    "Gráfico de Tiempo de predicción contra RECM para diferentes profundidades máximas del árbol. El objetivo del modelo de predicción es minimizar tanto el error como el tiempo de predicción, por lo que podemos visualizar el parámetro más óptimo como el que esté más cerca del origen en esta gráfica. \n",
    "\n",
    "Se puede observar que a partir de 9 de produndidad máxima, el modelo no disminuye significativamente el error, pero sí aumenta su tiempo de predicción. \n",
    "\n",
    "Si se desea priorizar la precisión la profundidad máxima óptima es de 12, aunque 9 o 10 también muestran un error bajo con tiempo de predicción aún menor. Por lo tanto en este caso se elige el valor 12 como el hiperparámetro más adecuado.\n",
    "\n",
    "Se guardan los resultados del árbol con menor error como referencia."
   ]
  },
  {
   "cell_type": "code",
   "execution_count": 40,
   "metadata": {},
   "outputs": [],
   "source": [
    "best_depth = tree_results[tree_results['RMSE']==tree_results['RMSE'].min()].index\n",
    "\n",
    "validation.loc['DecisionTreeRegressor'] = tree_results.loc[best_depth].values"
   ]
  },
  {
   "cell_type": "code",
   "execution_count": 41,
   "metadata": {},
   "outputs": [
    {
     "data": {
      "text/html": [
       "<div>\n",
       "<style scoped>\n",
       "    .dataframe tbody tr th:only-of-type {\n",
       "        vertical-align: middle;\n",
       "    }\n",
       "\n",
       "    .dataframe tbody tr th {\n",
       "        vertical-align: top;\n",
       "    }\n",
       "\n",
       "    .dataframe thead th {\n",
       "        text-align: right;\n",
       "    }\n",
       "</style>\n",
       "<table border=\"1\" class=\"dataframe\">\n",
       "  <thead>\n",
       "    <tr style=\"text-align: right;\">\n",
       "      <th></th>\n",
       "      <th>TrainingTime(s)</th>\n",
       "      <th>PredictionTime(s)</th>\n",
       "      <th>RMSE</th>\n",
       "      <th>R2score</th>\n",
       "    </tr>\n",
       "  </thead>\n",
       "  <tbody>\n",
       "    <tr>\n",
       "      <th>LinearRegression</th>\n",
       "      <td>25.3866</td>\n",
       "      <td>0.425113</td>\n",
       "      <td>2832.17</td>\n",
       "      <td>0.602271</td>\n",
       "    </tr>\n",
       "    <tr>\n",
       "      <th>DecisionTreeRegressor</th>\n",
       "      <td>5.34806</td>\n",
       "      <td>0.134203</td>\n",
       "      <td>2100.81</td>\n",
       "      <td>0.781162</td>\n",
       "    </tr>\n",
       "  </tbody>\n",
       "</table>\n",
       "</div>"
      ],
      "text/plain": [
       "                      TrainingTime(s) PredictionTime(s)     RMSE   R2score\n",
       "LinearRegression              25.3866          0.425113  2832.17  0.602271\n",
       "DecisionTreeRegressor         5.34806          0.134203  2100.81  0.781162"
      ]
     },
     "execution_count": 41,
     "metadata": {},
     "output_type": "execute_result"
    }
   ],
   "source": [
    "validation.head(2)"
   ]
  },
  {
   "cell_type": "markdown",
   "metadata": {},
   "source": [
    "### Bosque Aleatorio\n",
    "\n",
    "Basándonos en los resultados anteriores, en este modelo se utilizan 12 nodos de profundidad máxima. Se itera para valores de estimadores desde 10 hasta 100 en intervalos de 10."
   ]
  },
  {
   "cell_type": "code",
   "execution_count": 42,
   "metadata": {},
   "outputs": [],
   "source": [
    "forest_results = pd.DataFrame(columns=metrics, index=range(10, 101, 10))\n",
    "forest_results.index.name = 'Estimators'\n",
    "\n",
    "for est in forest_results.index:\n",
    "    \n",
    "    forest = RandomForestRegressor(n_estimators=est, max_depth=12 , random_state=12345)\n",
    "    \n",
    "    forest_results.loc[est]= train_predict_evaluate(forest, X_train_enc, y_train, X_valid_enc, y_valid)"
   ]
  },
  {
   "cell_type": "markdown",
   "metadata": {},
   "source": [
    "Se muestran los resultados."
   ]
  },
  {
   "cell_type": "code",
   "execution_count": 43,
   "metadata": {},
   "outputs": [
    {
     "data": {
      "text/html": [
       "<div>\n",
       "<style scoped>\n",
       "    .dataframe tbody tr th:only-of-type {\n",
       "        vertical-align: middle;\n",
       "    }\n",
       "\n",
       "    .dataframe tbody tr th {\n",
       "        vertical-align: top;\n",
       "    }\n",
       "\n",
       "    .dataframe thead th {\n",
       "        text-align: right;\n",
       "    }\n",
       "</style>\n",
       "<table border=\"1\" class=\"dataframe\">\n",
       "  <thead>\n",
       "    <tr style=\"text-align: right;\">\n",
       "      <th></th>\n",
       "      <th>TrainingTime(s)</th>\n",
       "      <th>PredictionTime(s)</th>\n",
       "      <th>RMSE</th>\n",
       "      <th>R2score</th>\n",
       "    </tr>\n",
       "    <tr>\n",
       "      <th>Estimators</th>\n",
       "      <th></th>\n",
       "      <th></th>\n",
       "      <th></th>\n",
       "      <th></th>\n",
       "    </tr>\n",
       "  </thead>\n",
       "  <tbody>\n",
       "    <tr>\n",
       "      <th>10</th>\n",
       "      <td>26.3713</td>\n",
       "      <td>0.196056</td>\n",
       "      <td>1918.67</td>\n",
       "      <td>0.817464</td>\n",
       "    </tr>\n",
       "    <tr>\n",
       "      <th>20</th>\n",
       "      <td>53.7452</td>\n",
       "      <td>0.408001</td>\n",
       "      <td>1905.53</td>\n",
       "      <td>0.819954</td>\n",
       "    </tr>\n",
       "    <tr>\n",
       "      <th>30</th>\n",
       "      <td>82.0178</td>\n",
       "      <td>0.542581</td>\n",
       "      <td>1901.93</td>\n",
       "      <td>0.820635</td>\n",
       "    </tr>\n",
       "    <tr>\n",
       "      <th>40</th>\n",
       "      <td>96.8178</td>\n",
       "      <td>0.728765</td>\n",
       "      <td>1898.72</td>\n",
       "      <td>0.821239</td>\n",
       "    </tr>\n",
       "    <tr>\n",
       "      <th>50</th>\n",
       "      <td>148.218</td>\n",
       "      <td>0.916205</td>\n",
       "      <td>1897.61</td>\n",
       "      <td>0.821448</td>\n",
       "    </tr>\n",
       "    <tr>\n",
       "      <th>60</th>\n",
       "      <td>142.411</td>\n",
       "      <td>1.09316</td>\n",
       "      <td>1896.73</td>\n",
       "      <td>0.821613</td>\n",
       "    </tr>\n",
       "    <tr>\n",
       "      <th>70</th>\n",
       "      <td>165.585</td>\n",
       "      <td>1.24909</td>\n",
       "      <td>1895.99</td>\n",
       "      <td>0.821753</td>\n",
       "    </tr>\n",
       "    <tr>\n",
       "      <th>80</th>\n",
       "      <td>191.537</td>\n",
       "      <td>1.43933</td>\n",
       "      <td>1895.04</td>\n",
       "      <td>0.821931</td>\n",
       "    </tr>\n",
       "    <tr>\n",
       "      <th>90</th>\n",
       "      <td>234.499</td>\n",
       "      <td>1.59108</td>\n",
       "      <td>1893.7</td>\n",
       "      <td>0.822184</td>\n",
       "    </tr>\n",
       "    <tr>\n",
       "      <th>100</th>\n",
       "      <td>236.448</td>\n",
       "      <td>1.79158</td>\n",
       "      <td>1893.36</td>\n",
       "      <td>0.822247</td>\n",
       "    </tr>\n",
       "  </tbody>\n",
       "</table>\n",
       "</div>"
      ],
      "text/plain": [
       "           TrainingTime(s) PredictionTime(s)     RMSE   R2score\n",
       "Estimators                                                     \n",
       "10                 26.3713          0.196056  1918.67  0.817464\n",
       "20                 53.7452          0.408001  1905.53  0.819954\n",
       "30                 82.0178          0.542581  1901.93  0.820635\n",
       "40                 96.8178          0.728765  1898.72  0.821239\n",
       "50                 148.218          0.916205  1897.61  0.821448\n",
       "60                 142.411           1.09316  1896.73  0.821613\n",
       "70                 165.585           1.24909  1895.99  0.821753\n",
       "80                 191.537           1.43933  1895.04  0.821931\n",
       "90                 234.499           1.59108   1893.7  0.822184\n",
       "100                236.448           1.79158  1893.36  0.822247"
      ]
     },
     "execution_count": 43,
     "metadata": {},
     "output_type": "execute_result"
    }
   ],
   "source": [
    "forest_results"
   ]
  },
  {
   "cell_type": "markdown",
   "metadata": {},
   "source": [
    "Los resultados más reelevantes se pueden observar en la siguiente gráfica."
   ]
  },
  {
   "cell_type": "code",
   "execution_count": 44,
   "metadata": {},
   "outputs": [
    {
     "data": {
      "image/png": "[encoded data removed]",
      "text/plain": [
       "<Figure size 720x432 with 1 Axes>"
      ]
     },
     "metadata": {
      "needs_background": "light"
     },
     "output_type": "display_data"
    }
   ],
   "source": [
    "fig, axs = plt.subplots(figsize=(10, 6))\n",
    "\n",
    "sns.scatterplot(data=forest_results, x='RMSE', y='PredictionTime(s)', legend=False)\n",
    "\n",
    "for est in forest_results.index:\n",
    "    \n",
    "    plt.text(x = forest_results.loc[est]['RMSE'] + 0.5 , \n",
    "             y = forest_results.loc[est]['PredictionTime(s)'] , \n",
    "             s = str(est))"
   ]
  },
  {
   "cell_type": "markdown",
   "metadata": {},
   "source": [
    "Gráfico de tiempo de predicción contra RECM para número de estimadores. Todos los bosques, sin importar el número de estimadores tienen menor error que los modelos anteriores, sin embargo presentan un tiempo de predicción considerablemente mayor.\n",
    "\n",
    "Igual que en el caso anterior, el número óptimo de estimadores debería estar cerca del origen en la gráfica, pues esto minimiza tanto el error como el tiempo de predicción. Sin embargo, en este caso existe un sacrificio entre el tiempo y la precisión; si intentamos minimizar el error aumenta el tiempo de predicción, mientras que al disminuir el tiempo de predicción aumenta el error. Por lo tanto es importante definir el peso que tiene cada uno de estos aspectos en el modelo final.\n",
    "\n",
    "Por el momento, si damos más prioridad a la precisión, un buen compromiso parecen ser 80 estimadores.\n",
    "\n",
    "Se guarda el bosque con menor error para referencias futuras."
   ]
  },
  {
   "cell_type": "code",
   "execution_count": 45,
   "metadata": {},
   "outputs": [],
   "source": [
    "best_est = forest_results[forest_results['RMSE']==forest_results['RMSE'].min()].index\n",
    "validation.loc['RandomForestRegressor'] = forest_results.loc[best_est].values"
   ]
  },
  {
   "cell_type": "code",
   "execution_count": 46,
   "metadata": {},
   "outputs": [
    {
     "data": {
      "text/html": [
       "<div>\n",
       "<style scoped>\n",
       "    .dataframe tbody tr th:only-of-type {\n",
       "        vertical-align: middle;\n",
       "    }\n",
       "\n",
       "    .dataframe tbody tr th {\n",
       "        vertical-align: top;\n",
       "    }\n",
       "\n",
       "    .dataframe thead th {\n",
       "        text-align: right;\n",
       "    }\n",
       "</style>\n",
       "<table border=\"1\" class=\"dataframe\">\n",
       "  <thead>\n",
       "    <tr style=\"text-align: right;\">\n",
       "      <th></th>\n",
       "      <th>TrainingTime(s)</th>\n",
       "      <th>PredictionTime(s)</th>\n",
       "      <th>RMSE</th>\n",
       "      <th>R2score</th>\n",
       "    </tr>\n",
       "  </thead>\n",
       "  <tbody>\n",
       "    <tr>\n",
       "      <th>LinearRegression</th>\n",
       "      <td>25.3866</td>\n",
       "      <td>0.425113</td>\n",
       "      <td>2832.17</td>\n",
       "      <td>0.602271</td>\n",
       "    </tr>\n",
       "    <tr>\n",
       "      <th>DecisionTreeRegressor</th>\n",
       "      <td>5.34806</td>\n",
       "      <td>0.134203</td>\n",
       "      <td>2100.81</td>\n",
       "      <td>0.781162</td>\n",
       "    </tr>\n",
       "    <tr>\n",
       "      <th>RandomForestRegressor</th>\n",
       "      <td>236.448</td>\n",
       "      <td>1.79158</td>\n",
       "      <td>1893.36</td>\n",
       "      <td>0.822247</td>\n",
       "    </tr>\n",
       "  </tbody>\n",
       "</table>\n",
       "</div>"
      ],
      "text/plain": [
       "                      TrainingTime(s) PredictionTime(s)     RMSE   R2score\n",
       "LinearRegression              25.3866          0.425113  2832.17  0.602271\n",
       "DecisionTreeRegressor         5.34806          0.134203  2100.81  0.781162\n",
       "RandomForestRegressor         236.448           1.79158  1893.36  0.822247"
      ]
     },
     "execution_count": 46,
     "metadata": {},
     "output_type": "execute_result"
    }
   ],
   "source": [
    "validation.head(3)"
   ]
  },
  {
   "cell_type": "markdown",
   "metadata": {},
   "source": [
    "### Potenciación de Gradiente\n",
    "\n",
    "Existen muchos hiperparámetros que se pueden modificar con este método. En este trabajo nos enfocamos en dos de los más básicos: número de rondas y número de hojas. A grandes rasgos, el algoritmo utilizado en LightGBM crece aumentando su profundidad. Esto hace que los resultados converjan de manera más rápida. Una manera de limitar este crecimiento es limitando el número de hojas.\n",
    "\n",
    "Por esta razón se observan los resultados para número de hojas en un rango de 10 a 50, con incrementos de 10.\n",
    "\n",
    "Para cada uno de estos se modifica el número de rondas, en un rango de 50 hasta 100 con incrementos de 10."
   ]
  },
  {
   "cell_type": "code",
   "execution_count": 57,
   "metadata": {},
   "outputs": [
    {
     "name": "stderr",
     "output_type": "stream",
     "text": [
      "/opt/anaconda3/lib/python3.8/site-packages/lightgbm/engine.py:148: UserWarning: Found `num_rounds` in params. Will use it instead of argument\n",
      "  warnings.warn(\"Found `{}` in params. Will use it instead of argument\".format(alias))\n",
      "/opt/anaconda3/lib/python3.8/site-packages/lightgbm/engine.py:148: UserWarning: Found `num_rounds` in params. Will use it instead of argument\n",
      "  warnings.warn(\"Found `{}` in params. Will use it instead of argument\".format(alias))\n",
      "/opt/anaconda3/lib/python3.8/site-packages/lightgbm/engine.py:148: UserWarning: Found `num_rounds` in params. Will use it instead of argument\n",
      "  warnings.warn(\"Found `{}` in params. Will use it instead of argument\".format(alias))\n",
      "/opt/anaconda3/lib/python3.8/site-packages/lightgbm/engine.py:148: UserWarning: Found `num_rounds` in params. Will use it instead of argument\n",
      "  warnings.warn(\"Found `{}` in params. Will use it instead of argument\".format(alias))\n",
      "/opt/anaconda3/lib/python3.8/site-packages/lightgbm/engine.py:148: UserWarning: Found `num_rounds` in params. Will use it instead of argument\n",
      "  warnings.warn(\"Found `{}` in params. Will use it instead of argument\".format(alias))\n",
      "/opt/anaconda3/lib/python3.8/site-packages/lightgbm/engine.py:148: UserWarning: Found `num_rounds` in params. Will use it instead of argument\n",
      "  warnings.warn(\"Found `{}` in params. Will use it instead of argument\".format(alias))\n",
      "/opt/anaconda3/lib/python3.8/site-packages/lightgbm/engine.py:148: UserWarning: Found `num_rounds` in params. Will use it instead of argument\n",
      "  warnings.warn(\"Found `{}` in params. Will use it instead of argument\".format(alias))\n",
      "/opt/anaconda3/lib/python3.8/site-packages/lightgbm/engine.py:148: UserWarning: Found `num_rounds` in params. Will use it instead of argument\n",
      "  warnings.warn(\"Found `{}` in params. Will use it instead of argument\".format(alias))\n",
      "/opt/anaconda3/lib/python3.8/site-packages/lightgbm/engine.py:148: UserWarning: Found `num_rounds` in params. Will use it instead of argument\n",
      "  warnings.warn(\"Found `{}` in params. Will use it instead of argument\".format(alias))\n",
      "/opt/anaconda3/lib/python3.8/site-packages/lightgbm/engine.py:148: UserWarning: Found `num_rounds` in params. Will use it instead of argument\n",
      "  warnings.warn(\"Found `{}` in params. Will use it instead of argument\".format(alias))\n",
      "/opt/anaconda3/lib/python3.8/site-packages/lightgbm/engine.py:148: UserWarning: Found `num_rounds` in params. Will use it instead of argument\n",
      "  warnings.warn(\"Found `{}` in params. Will use it instead of argument\".format(alias))\n",
      "/opt/anaconda3/lib/python3.8/site-packages/lightgbm/engine.py:148: UserWarning: Found `num_rounds` in params. Will use it instead of argument\n",
      "  warnings.warn(\"Found `{}` in params. Will use it instead of argument\".format(alias))\n",
      "/opt/anaconda3/lib/python3.8/site-packages/lightgbm/engine.py:148: UserWarning: Found `num_rounds` in params. Will use it instead of argument\n",
      "  warnings.warn(\"Found `{}` in params. Will use it instead of argument\".format(alias))\n",
      "/opt/anaconda3/lib/python3.8/site-packages/lightgbm/engine.py:148: UserWarning: Found `num_rounds` in params. Will use it instead of argument\n",
      "  warnings.warn(\"Found `{}` in params. Will use it instead of argument\".format(alias))\n",
      "/opt/anaconda3/lib/python3.8/site-packages/lightgbm/engine.py:148: UserWarning: Found `num_rounds` in params. Will use it instead of argument\n",
      "  warnings.warn(\"Found `{}` in params. Will use it instead of argument\".format(alias))\n",
      "/opt/anaconda3/lib/python3.8/site-packages/lightgbm/engine.py:148: UserWarning: Found `num_rounds` in params. Will use it instead of argument\n",
      "  warnings.warn(\"Found `{}` in params. Will use it instead of argument\".format(alias))\n",
      "/opt/anaconda3/lib/python3.8/site-packages/lightgbm/engine.py:148: UserWarning: Found `num_rounds` in params. Will use it instead of argument\n",
      "  warnings.warn(\"Found `{}` in params. Will use it instead of argument\".format(alias))\n",
      "/opt/anaconda3/lib/python3.8/site-packages/lightgbm/engine.py:148: UserWarning: Found `num_rounds` in params. Will use it instead of argument\n",
      "  warnings.warn(\"Found `{}` in params. Will use it instead of argument\".format(alias))\n",
      "/opt/anaconda3/lib/python3.8/site-packages/lightgbm/engine.py:148: UserWarning: Found `num_rounds` in params. Will use it instead of argument\n",
      "  warnings.warn(\"Found `{}` in params. Will use it instead of argument\".format(alias))\n",
      "/opt/anaconda3/lib/python3.8/site-packages/lightgbm/engine.py:148: UserWarning: Found `num_rounds` in params. Will use it instead of argument\n",
      "  warnings.warn(\"Found `{}` in params. Will use it instead of argument\".format(alias))\n",
      "/opt/anaconda3/lib/python3.8/site-packages/lightgbm/engine.py:148: UserWarning: Found `num_rounds` in params. Will use it instead of argument\n",
      "  warnings.warn(\"Found `{}` in params. Will use it instead of argument\".format(alias))\n",
      "/opt/anaconda3/lib/python3.8/site-packages/lightgbm/engine.py:148: UserWarning: Found `num_rounds` in params. Will use it instead of argument\n",
      "  warnings.warn(\"Found `{}` in params. Will use it instead of argument\".format(alias))\n",
      "/opt/anaconda3/lib/python3.8/site-packages/lightgbm/engine.py:148: UserWarning: Found `num_rounds` in params. Will use it instead of argument\n",
      "  warnings.warn(\"Found `{}` in params. Will use it instead of argument\".format(alias))\n",
      "/opt/anaconda3/lib/python3.8/site-packages/lightgbm/engine.py:148: UserWarning: Found `num_rounds` in params. Will use it instead of argument\n",
      "  warnings.warn(\"Found `{}` in params. Will use it instead of argument\".format(alias))\n",
      "/opt/anaconda3/lib/python3.8/site-packages/lightgbm/engine.py:148: UserWarning: Found `num_rounds` in params. Will use it instead of argument\n",
      "  warnings.warn(\"Found `{}` in params. Will use it instead of argument\".format(alias))\n",
      "/opt/anaconda3/lib/python3.8/site-packages/lightgbm/engine.py:148: UserWarning: Found `num_rounds` in params. Will use it instead of argument\n",
      "  warnings.warn(\"Found `{}` in params. Will use it instead of argument\".format(alias))\n",
      "/opt/anaconda3/lib/python3.8/site-packages/lightgbm/engine.py:148: UserWarning: Found `num_rounds` in params. Will use it instead of argument\n",
      "  warnings.warn(\"Found `{}` in params. Will use it instead of argument\".format(alias))\n",
      "/opt/anaconda3/lib/python3.8/site-packages/lightgbm/engine.py:148: UserWarning: Found `num_rounds` in params. Will use it instead of argument\n",
      "  warnings.warn(\"Found `{}` in params. Will use it instead of argument\".format(alias))\n",
      "/opt/anaconda3/lib/python3.8/site-packages/lightgbm/engine.py:148: UserWarning: Found `num_rounds` in params. Will use it instead of argument\n",
      "  warnings.warn(\"Found `{}` in params. Will use it instead of argument\".format(alias))\n",
      "/opt/anaconda3/lib/python3.8/site-packages/lightgbm/engine.py:148: UserWarning: Found `num_rounds` in params. Will use it instead of argument\n",
      "  warnings.warn(\"Found `{}` in params. Will use it instead of argument\".format(alias))\n"
     ]
    }
   ],
   "source": [
    "lgb_results = pd.DataFrame(columns=['Training Time', 'PredictionTime(s)','RMSE', 'R2score', 'Iterations', 'Leaves'], \n",
    "                           index=range(1, 26) )\n",
    "\n",
    "#Se crea un dataset para lgb\n",
    "lgb_train = lgb.Dataset(X_train_enc , y_train, categorical_feature=categoric)\n",
    "\n",
    "count=1\n",
    "for r in range(50, 101, 10):\n",
    "    for l in range(10, 51, 10):\n",
    "        params = {\n",
    "            \"boosting_type\": \"gbdt\", #Gradient Boosting Decision Tree\n",
    "            \"objective\": \"regression\", #La función objetivo es rmse\n",
    "            \"num_rounds\": r, #iteramos este parámetro \n",
    "            \"num_leaves\": l, # iteramos este parámetro          \n",
    "        }\n",
    "\n",
    "        # Entrenamiento\n",
    "        start_time = time.time()\n",
    "        gbm = lgb.train(params, lgb_train, categorical_feature=categoric)\n",
    "        train_time = time.time()\n",
    "\n",
    "        # Predicción\n",
    "        predicted_valid = gbm.predict(X_valid_enc)\n",
    "        prediction_time = time.time()\n",
    "\n",
    "        # Evaluación\n",
    "        rmse, r2 = evaluate(y_valid, predicted_valid)\n",
    "\n",
    "        #tiempos de entrenamiento y predicción\n",
    "        ttime = train_time - start_time\n",
    "        ptime = prediction_time - train_time\n",
    "\n",
    "        results = [ttime, ptime, rmse, r2, r, l]\n",
    "    \n",
    "        lgb_results.loc[count] = results\n",
    "        count += 1"
   ]
  },
  {
   "cell_type": "markdown",
   "metadata": {},
   "source": [
    "Para visualizar la relación entre número de hojas y número de rondas, se muestran los mapas de calor para los valores de RECM y tiempo de predicción."
   ]
  },
  {
   "cell_type": "code",
   "execution_count": 59,
   "metadata": {},
   "outputs": [
    {
     "data": {
      "text/plain": [
       "Text(0.5, 1.0, 'Prediction Time(s)')"
      ]
     },
     "execution_count": 59,
     "metadata": {},
     "output_type": "execute_result"
    },
    {
     "data": {
      "image/png": "[encoded data removed]",
      "text/plain": [
       "<Figure size 1152x432 with 4 Axes>"
      ]
     },
     "metadata": {
      "needs_background": "light"
     },
     "output_type": "display_data"
    }
   ],
   "source": [
    "fig, (ax0, ax1) = plt.subplots(ncols=2, figsize=(16, 6))\n",
    "\n",
    "rsme_heat = pd.pivot(lgb_results, values='RMSE', index='Iterations', columns='Leaves')\n",
    "sns.heatmap(rsme_heat.astype(float), annot=True, ax=ax0 )\n",
    "ax0.set_title('RMSE')\n",
    "\n",
    "ptime_heat = pd.pivot(lgb_results, values='PredictionTime(s)', index='Iterations', columns='Leaves')\n",
    "sns.heatmap(ptime_heat.astype(float), annot=True, ax=ax1)\n",
    "ax1.set_title('Prediction Time(s)')"
   ]
  },
  {
   "cell_type": "markdown",
   "metadata": {},
   "source": [
    "Diagramas de calor de Número de iteraciones contra número de hojas. A la izquierda se muestra el valor de RMSE, a la derecha el tiempo de predicción. Cuanto más oscuro el color se minimiza tanto el error como el tiempo de predicción. \n",
    "\n",
    "El diagrama de la izquierda muestra que cuanto más altos son el número de iteraciones y número de hojas menor es el error. Por otro lado cuanto más bajo es el número de iteradores y hojas menor el tiempo de predicción.\n",
    "\n",
    "Se muestran los valores que tienen menor error que el mejor resultado del bosque de decisión y cuyo tiempo de predicción es menor a 1 segundo "
   ]
  },
  {
   "cell_type": "code",
   "execution_count": 49,
   "metadata": {},
   "outputs": [
    {
     "data": {
      "text/html": [
       "<div>\n",
       "<style scoped>\n",
       "    .dataframe tbody tr th:only-of-type {\n",
       "        vertical-align: middle;\n",
       "    }\n",
       "\n",
       "    .dataframe tbody tr th {\n",
       "        vertical-align: top;\n",
       "    }\n",
       "\n",
       "    .dataframe thead th {\n",
       "        text-align: right;\n",
       "    }\n",
       "</style>\n",
       "<table border=\"1\" class=\"dataframe\">\n",
       "  <thead>\n",
       "    <tr style=\"text-align: right;\">\n",
       "      <th></th>\n",
       "      <th>Training Time</th>\n",
       "      <th>PredictionTime(s)</th>\n",
       "      <th>RMSE</th>\n",
       "      <th>R2score</th>\n",
       "      <th>Iterations</th>\n",
       "      <th>Leaves</th>\n",
       "    </tr>\n",
       "  </thead>\n",
       "  <tbody>\n",
       "    <tr>\n",
       "      <th>14</th>\n",
       "      <td>5.51176</td>\n",
       "      <td>0.973357</td>\n",
       "      <td>1764.96</td>\n",
       "      <td>0.845538</td>\n",
       "      <td>70</td>\n",
       "      <td>40</td>\n",
       "    </tr>\n",
       "    <tr>\n",
       "      <th>5</th>\n",
       "      <td>4.56061</td>\n",
       "      <td>0.705385</td>\n",
       "      <td>1769.87</td>\n",
       "      <td>0.844679</td>\n",
       "      <td>50</td>\n",
       "      <td>50</td>\n",
       "    </tr>\n",
       "    <tr>\n",
       "      <th>18</th>\n",
       "      <td>5.89509</td>\n",
       "      <td>0.995948</td>\n",
       "      <td>1770.64</td>\n",
       "      <td>0.844543</td>\n",
       "      <td>80</td>\n",
       "      <td>30</td>\n",
       "    </tr>\n",
       "    <tr>\n",
       "      <th>9</th>\n",
       "      <td>4.22165</td>\n",
       "      <td>0.723369</td>\n",
       "      <td>1775.32</td>\n",
       "      <td>0.84372</td>\n",
       "      <td>60</td>\n",
       "      <td>40</td>\n",
       "    </tr>\n",
       "    <tr>\n",
       "      <th>13</th>\n",
       "      <td>4.77941</td>\n",
       "      <td>0.77462</td>\n",
       "      <td>1781.92</td>\n",
       "      <td>0.842556</td>\n",
       "      <td>70</td>\n",
       "      <td>30</td>\n",
       "    </tr>\n",
       "    <tr>\n",
       "      <th>4</th>\n",
       "      <td>3.87917</td>\n",
       "      <td>0.777009</td>\n",
       "      <td>1788.99</td>\n",
       "      <td>0.841303</td>\n",
       "      <td>50</td>\n",
       "      <td>40</td>\n",
       "    </tr>\n",
       "    <tr>\n",
       "      <th>8</th>\n",
       "      <td>3.65152</td>\n",
       "      <td>0.644353</td>\n",
       "      <td>1792.45</td>\n",
       "      <td>0.840689</td>\n",
       "      <td>60</td>\n",
       "      <td>30</td>\n",
       "    </tr>\n",
       "    <tr>\n",
       "      <th>17</th>\n",
       "      <td>4.74059</td>\n",
       "      <td>0.776413</td>\n",
       "      <td>1796.04</td>\n",
       "      <td>0.840051</td>\n",
       "      <td>80</td>\n",
       "      <td>20</td>\n",
       "    </tr>\n",
       "    <tr>\n",
       "      <th>12</th>\n",
       "      <td>4.19126</td>\n",
       "      <td>0.721601</td>\n",
       "      <td>1806.11</td>\n",
       "      <td>0.838252</td>\n",
       "      <td>70</td>\n",
       "      <td>20</td>\n",
       "    </tr>\n",
       "    <tr>\n",
       "      <th>3</th>\n",
       "      <td>3.83556</td>\n",
       "      <td>0.6836</td>\n",
       "      <td>1808.09</td>\n",
       "      <td>0.837897</td>\n",
       "      <td>50</td>\n",
       "      <td>30</td>\n",
       "    </tr>\n",
       "    <tr>\n",
       "      <th>7</th>\n",
       "      <td>3.50078</td>\n",
       "      <td>0.707946</td>\n",
       "      <td>1818.55</td>\n",
       "      <td>0.836015</td>\n",
       "      <td>60</td>\n",
       "      <td>20</td>\n",
       "    </tr>\n",
       "    <tr>\n",
       "      <th>2</th>\n",
       "      <td>2.78245</td>\n",
       "      <td>0.669152</td>\n",
       "      <td>1837.79</td>\n",
       "      <td>0.832527</td>\n",
       "      <td>50</td>\n",
       "      <td>20</td>\n",
       "    </tr>\n",
       "    <tr>\n",
       "      <th>21</th>\n",
       "      <td>3.69969</td>\n",
       "      <td>0.908785</td>\n",
       "      <td>1850.01</td>\n",
       "      <td>0.830294</td>\n",
       "      <td>90</td>\n",
       "      <td>10</td>\n",
       "    </tr>\n",
       "    <tr>\n",
       "      <th>16</th>\n",
       "      <td>3.46768</td>\n",
       "      <td>0.864359</td>\n",
       "      <td>1858.76</td>\n",
       "      <td>0.828685</td>\n",
       "      <td>80</td>\n",
       "      <td>10</td>\n",
       "    </tr>\n",
       "    <tr>\n",
       "      <th>11</th>\n",
       "      <td>2.90607</td>\n",
       "      <td>0.761554</td>\n",
       "      <td>1869.62</td>\n",
       "      <td>0.826676</td>\n",
       "      <td>70</td>\n",
       "      <td>10</td>\n",
       "    </tr>\n",
       "    <tr>\n",
       "      <th>6</th>\n",
       "      <td>2.51462</td>\n",
       "      <td>0.489625</td>\n",
       "      <td>1887.46</td>\n",
       "      <td>0.823354</td>\n",
       "      <td>60</td>\n",
       "      <td>10</td>\n",
       "    </tr>\n",
       "  </tbody>\n",
       "</table>\n",
       "</div>"
      ],
      "text/plain": [
       "   Training Time PredictionTime(s)     RMSE   R2score Iterations Leaves\n",
       "14       5.51176          0.973357  1764.96  0.845538         70     40\n",
       "5        4.56061          0.705385  1769.87  0.844679         50     50\n",
       "18       5.89509          0.995948  1770.64  0.844543         80     30\n",
       "9        4.22165          0.723369  1775.32   0.84372         60     40\n",
       "13       4.77941           0.77462  1781.92  0.842556         70     30\n",
       "4        3.87917          0.777009  1788.99  0.841303         50     40\n",
       "8        3.65152          0.644353  1792.45  0.840689         60     30\n",
       "17       4.74059          0.776413  1796.04  0.840051         80     20\n",
       "12       4.19126          0.721601  1806.11  0.838252         70     20\n",
       "3        3.83556            0.6836  1808.09  0.837897         50     30\n",
       "7        3.50078          0.707946  1818.55  0.836015         60     20\n",
       "2        2.78245          0.669152  1837.79  0.832527         50     20\n",
       "21       3.69969          0.908785  1850.01  0.830294         90     10\n",
       "16       3.46768          0.864359  1858.76  0.828685         80     10\n",
       "11       2.90607          0.761554  1869.62  0.826676         70     10\n",
       "6        2.51462          0.489625  1887.46  0.823354         60     10"
      ]
     },
     "execution_count": 49,
     "metadata": {},
     "output_type": "execute_result"
    }
   ],
   "source": [
    "lgb_results[(lgb_results['RMSE']<1895) & (lgb_results['PredictionTime(s)']<1)].sort_values(by='RMSE')"
   ]
  },
  {
   "cell_type": "markdown",
   "metadata": {},
   "source": [
    "Se guardan los resultados del modelo con menor RECM."
   ]
  },
  {
   "cell_type": "code",
   "execution_count": 83,
   "metadata": {},
   "outputs": [],
   "source": [
    "best_ind = lgb_results[lgb_results['RMSE']==lgb_results['RMSE'].min()].index\n",
    "validation.loc['GradientBoosting'] = lgb_results.iloc[best_ind-1, 0:4].values"
   ]
  },
  {
   "cell_type": "code",
   "execution_count": 84,
   "metadata": {},
   "outputs": [
    {
     "data": {
      "text/plain": [
       "<AxesSubplot:xlabel='RMSE', ylabel='PredictionTime(s)'>"
      ]
     },
     "execution_count": 84,
     "metadata": {},
     "output_type": "execute_result"
    },
    {
     "data": {
      "image/png": "[encoded data removed]",
      "text/plain": [
       "<Figure size 1152x504 with 1 Axes>"
      ]
     },
     "metadata": {
      "needs_background": "light"
     },
     "output_type": "display_data"
    }
   ],
   "source": [
    "fig, axs = plt.subplots(figsize=(16, 7))\n",
    "\n",
    "sns.scatterplot(data=lgb_results, x='RMSE', y='PredictionTime(s)', hue='Iterations', size='Leaves' )"
   ]
  },
  {
   "cell_type": "markdown",
   "metadata": {},
   "source": [
    "Gráfico de Tiempo de Predicción contra RMSE para ensambles con diferente número de hojas e iteraciones. Se puede observar que a mayor número de iteradores disminuye el error,  pero no necesariamente a mayor número de hojas disminuye el error. \n",
    "\n",
    "Para tener una noción de la calidad de todos los modelos se muestra el siguiente gráfico."
   ]
  },
  {
   "cell_type": "code",
   "execution_count": 85,
   "metadata": {},
   "outputs": [
    {
     "data": {
      "text/plain": [
       "<AxesSubplot:xlabel='RMSE', ylabel='PredictionTime(s)'>"
      ]
     },
     "execution_count": 85,
     "metadata": {},
     "output_type": "execute_result"
    },
    {
     "data": {
      "image/png": "[encoded data removed]",
      "text/plain": [
       "<Figure size 504x504 with 1 Axes>"
      ]
     },
     "metadata": {
      "needs_background": "light"
     },
     "output_type": "display_data"
    }
   ],
   "source": [
    "fig, ax = plt.subplots(figsize=(7, 7))\n",
    "\n",
    "#regresión lineal\n",
    "\n",
    "sns.scatterplot(data=validation, x='RMSE', y='PredictionTime(s)', color='red', label='Linear Regression')\n",
    "\n",
    "#árbol\n",
    "sns.scatterplot(data=tree_results, x='RMSE', y='PredictionTime(s)', color='limegreen', label='Decision Tree')\n",
    "\n",
    "#bosque\n",
    "sns.scatterplot(data=forest_results, x='RMSE', y='PredictionTime(s)', color='darkgreen', label='Random Forest')\n",
    "\n",
    "#potenciación de gradiente\n",
    "sns.scatterplot(data=lgb_results, x='RMSE', y='PredictionTime(s)', color='blue', label='Gradient Boost')"
   ]
  },
  {
   "cell_type": "markdown",
   "metadata": {},
   "source": [
    "Gráfico de Tiempo de Predicción contra RMSE para todos los modelos. En rojo se muestra la predicción con el modelo de regresión lineal. \n",
    "\n",
    "Lo primero que se puede observar es que todos los modelos parecen tener un límite en su precisión, de tal manera que al modificar los hiperparámetros la ganancia en precisión es muy pequeña. \n",
    "\n",
    "Cada modelo ofrece ciertas ventajas sobre los demás, por ejemplo, los árboles de decisión toman un tiempo de predicción muy bajo en comparación con los demás modelos, sin embargo tienen un límite en su precisión. \n",
    "\n",
    "Por otro lado los bosques aleatorios ofrecen una precisión muy focalizada, pero difieren mucho en el tiempo de predicción.\n",
    "\n",
    "Los ensambles por potenciación de gradiente ofrecen la mayor precisión de todos los modelos, y un tiempo de predicción comparable a los bosques. "
   ]
  },
  {
   "cell_type": "markdown",
   "metadata": {},
   "source": [
    "## Análisis de los modelos finales\n",
    "\n",
    "Finalmente, se hacen predecciones para el conjunto de prueba de los modelos con los mejores hiperparámetros."
   ]
  },
  {
   "cell_type": "code",
   "execution_count": 52,
   "metadata": {},
   "outputs": [],
   "source": [
    "#regresión lineal\n",
    "test = pd.DataFrame( columns=metrics, index=models)\n",
    "test.loc['LinearRegression'] = train_predict_evaluate(lr, X_train_ohe, y_train, X_test_ohe, y_test)\n",
    "\n",
    "# árbol de decisión\n",
    "tree = DecisionTreeRegressor(max_depth=12 , random_state=12345)\n",
    "test.loc['DecisionTreeRegressor']= train_predict_evaluate(tree, X_train_enc, y_train, X_test_enc, y_test)\n",
    "\n",
    "#bosque aleaorio\n",
    "forest = RandomForestRegressor(n_estimators=80, max_depth=12 , random_state=12345)    \n",
    "test.loc['RandomForestRegressor']= train_predict_evaluate(forest, X_train_enc, y_train, X_test_enc, y_test)"
   ]
  },
  {
   "cell_type": "code",
   "execution_count": 86,
   "metadata": {},
   "outputs": [
    {
     "name": "stderr",
     "output_type": "stream",
     "text": [
      "/opt/anaconda3/lib/python3.8/site-packages/lightgbm/engine.py:148: UserWarning: Found `num_rounds` in params. Will use it instead of argument\n",
      "  warnings.warn(\"Found `{}` in params. Will use it instead of argument\".format(alias))\n"
     ]
    }
   ],
   "source": [
    "#potenciación de gradiente\n",
    "params = {\"boosting_type\": \"gbdt\", #Gradient Boosting Decision Tree\n",
    "          \"objective\": \"regression\", #La función objetivo es rmse\n",
    "          \"num_rounds\": 100, #el valor óptimo obtenido\n",
    "          \"num_leaves\": 30, # el valor óptimo obtenido\n",
    "          }\n",
    "\n",
    "# Entrenamiento\n",
    "start_time = time.time()\n",
    "gbm = lgb.train(params, lgb_train, categorical_feature=categoric)\n",
    "train_time = time.time()\n",
    "\n",
    "# Predicción\n",
    "predicted_valid = gbm.predict(X_test_enc)\n",
    "prediction_time = time.time()\n",
    "\n",
    "# Evaluación\n",
    "rmse, r2 = evaluate(y_test, predicted_valid)\n",
    "\n",
    "#tiempos de entrenamiento y predicción\n",
    "ttime = train_time - start_time\n",
    "ptime = prediction_time - train_time\n",
    "\n",
    "test.loc['GradientBoosting'] = [ttime, ptime, rmse, r2]"
   ]
  },
  {
   "cell_type": "markdown",
   "metadata": {},
   "source": [
    "Se muestran los resultados para el conjunto de prueba."
   ]
  },
  {
   "cell_type": "code",
   "execution_count": 87,
   "metadata": {},
   "outputs": [
    {
     "data": {
      "text/html": [
       "<div>\n",
       "<style scoped>\n",
       "    .dataframe tbody tr th:only-of-type {\n",
       "        vertical-align: middle;\n",
       "    }\n",
       "\n",
       "    .dataframe tbody tr th {\n",
       "        vertical-align: top;\n",
       "    }\n",
       "\n",
       "    .dataframe thead th {\n",
       "        text-align: right;\n",
       "    }\n",
       "</style>\n",
       "<table border=\"1\" class=\"dataframe\">\n",
       "  <thead>\n",
       "    <tr style=\"text-align: right;\">\n",
       "      <th></th>\n",
       "      <th>TrainingTime(s)</th>\n",
       "      <th>PredictionTime(s)</th>\n",
       "      <th>RMSE</th>\n",
       "      <th>R2score</th>\n",
       "    </tr>\n",
       "  </thead>\n",
       "  <tbody>\n",
       "    <tr>\n",
       "      <th>LinearRegression</th>\n",
       "      <td>23.8296</td>\n",
       "      <td>0.511344</td>\n",
       "      <td>2844.2</td>\n",
       "      <td>0.600726</td>\n",
       "    </tr>\n",
       "    <tr>\n",
       "      <th>DecisionTreeRegressor</th>\n",
       "      <td>3.1215</td>\n",
       "      <td>0.0509412</td>\n",
       "      <td>2117.2</td>\n",
       "      <td>0.778755</td>\n",
       "    </tr>\n",
       "    <tr>\n",
       "      <th>RandomForestRegressor</th>\n",
       "      <td>211.697</td>\n",
       "      <td>1.4711</td>\n",
       "      <td>1917.88</td>\n",
       "      <td>0.81845</td>\n",
       "    </tr>\n",
       "    <tr>\n",
       "      <th>GradientBoosting</th>\n",
       "      <td>8.13421</td>\n",
       "      <td>1.14999</td>\n",
       "      <td>1786.36</td>\n",
       "      <td>0.842497</td>\n",
       "    </tr>\n",
       "  </tbody>\n",
       "</table>\n",
       "</div>"
      ],
      "text/plain": [
       "                      TrainingTime(s) PredictionTime(s)     RMSE   R2score\n",
       "LinearRegression              23.8296          0.511344   2844.2  0.600726\n",
       "DecisionTreeRegressor          3.1215         0.0509412   2117.2  0.778755\n",
       "RandomForestRegressor         211.697            1.4711  1917.88   0.81845\n",
       "GradientBoosting              8.13421           1.14999  1786.36  0.842497"
      ]
     },
     "execution_count": 87,
     "metadata": {},
     "output_type": "execute_result"
    }
   ],
   "source": [
    "test"
   ]
  },
  {
   "cell_type": "markdown",
   "metadata": {},
   "source": [
    "Las mejores métricas se obtienen con potenciación de gradiente, aunque tiene el segundo tiempo de predicción más alto. El mayor tiempo de entrenamiento y predicción lo tiene el bosque aleatorio. El modelo más rápido es el árbol de decisión. "
   ]
  },
  {
   "cell_type": "code",
   "execution_count": 88,
   "metadata": {},
   "outputs": [],
   "source": [
    "total = test.merge(validation, how='outer', on=test.index, suffixes=('_test', '_valid'))"
   ]
  },
  {
   "cell_type": "code",
   "execution_count": 89,
   "metadata": {},
   "outputs": [
    {
     "data": {
      "text/html": [
       "<div>\n",
       "<style scoped>\n",
       "    .dataframe tbody tr th:only-of-type {\n",
       "        vertical-align: middle;\n",
       "    }\n",
       "\n",
       "    .dataframe tbody tr th {\n",
       "        vertical-align: top;\n",
       "    }\n",
       "\n",
       "    .dataframe thead th {\n",
       "        text-align: right;\n",
       "    }\n",
       "</style>\n",
       "<table border=\"1\" class=\"dataframe\">\n",
       "  <thead>\n",
       "    <tr style=\"text-align: right;\">\n",
       "      <th></th>\n",
       "      <th>key_0</th>\n",
       "      <th>TrainingTime(s)_test</th>\n",
       "      <th>PredictionTime(s)_test</th>\n",
       "      <th>RMSE_test</th>\n",
       "      <th>R2score_test</th>\n",
       "      <th>TrainingTime(s)_valid</th>\n",
       "      <th>PredictionTime(s)_valid</th>\n",
       "      <th>RMSE_valid</th>\n",
       "      <th>R2score_valid</th>\n",
       "    </tr>\n",
       "  </thead>\n",
       "  <tbody>\n",
       "    <tr>\n",
       "      <th>0</th>\n",
       "      <td>LinearRegression</td>\n",
       "      <td>23.8296</td>\n",
       "      <td>0.511344</td>\n",
       "      <td>2844.2</td>\n",
       "      <td>0.600726</td>\n",
       "      <td>25.3866</td>\n",
       "      <td>0.425113</td>\n",
       "      <td>2832.17</td>\n",
       "      <td>0.602271</td>\n",
       "    </tr>\n",
       "    <tr>\n",
       "      <th>1</th>\n",
       "      <td>DecisionTreeRegressor</td>\n",
       "      <td>3.1215</td>\n",
       "      <td>0.0509412</td>\n",
       "      <td>2117.2</td>\n",
       "      <td>0.778755</td>\n",
       "      <td>5.34806</td>\n",
       "      <td>0.134203</td>\n",
       "      <td>2100.81</td>\n",
       "      <td>0.781162</td>\n",
       "    </tr>\n",
       "    <tr>\n",
       "      <th>2</th>\n",
       "      <td>RandomForestRegressor</td>\n",
       "      <td>211.697</td>\n",
       "      <td>1.4711</td>\n",
       "      <td>1917.88</td>\n",
       "      <td>0.81845</td>\n",
       "      <td>236.448</td>\n",
       "      <td>1.79158</td>\n",
       "      <td>1893.36</td>\n",
       "      <td>0.822247</td>\n",
       "    </tr>\n",
       "    <tr>\n",
       "      <th>3</th>\n",
       "      <td>GradientBoosting</td>\n",
       "      <td>8.13421</td>\n",
       "      <td>1.14999</td>\n",
       "      <td>1786.36</td>\n",
       "      <td>0.842497</td>\n",
       "      <td>12.3337</td>\n",
       "      <td>1.35843</td>\n",
       "      <td>1733.7</td>\n",
       "      <td>0.850962</td>\n",
       "    </tr>\n",
       "  </tbody>\n",
       "</table>\n",
       "</div>"
      ],
      "text/plain": [
       "                   key_0 TrainingTime(s)_test PredictionTime(s)_test  \\\n",
       "0       LinearRegression              23.8296               0.511344   \n",
       "1  DecisionTreeRegressor               3.1215              0.0509412   \n",
       "2  RandomForestRegressor              211.697                 1.4711   \n",
       "3       GradientBoosting              8.13421                1.14999   \n",
       "\n",
       "  RMSE_test R2score_test TrainingTime(s)_valid PredictionTime(s)_valid  \\\n",
       "0    2844.2     0.600726               25.3866                0.425113   \n",
       "1    2117.2     0.778755               5.34806                0.134203   \n",
       "2   1917.88      0.81845               236.448                 1.79158   \n",
       "3   1786.36     0.842497               12.3337                 1.35843   \n",
       "\n",
       "  RMSE_valid R2score_valid  \n",
       "0    2832.17      0.602271  \n",
       "1    2100.81      0.781162  \n",
       "2    1893.36      0.822247  \n",
       "3     1733.7      0.850962  "
      ]
     },
     "execution_count": 89,
     "metadata": {},
     "output_type": "execute_result"
    }
   ],
   "source": [
    "total"
   ]
  },
  {
   "cell_type": "markdown",
   "metadata": {},
   "source": [
    "Los resultados del conjunto de validación y el de prueba son congruentes y no hay diferencias significativas en ninguna métrica. Todos los modelos tienen errores más altos en el conjunto de prueba que en el de validación, pero no demasiado, lo cual indica que no hay tanto sobreajuste. "
   ]
  },
  {
   "cell_type": "markdown",
   "metadata": {},
   "source": [
    "## Conclusiones\n",
    "\n",
    "Con el objetivo de encontrar un modelo de predicción de precios de autos con la mayor precisión y menor tiempo de predicción se analizaron cuatro modelos: Regresión Lineal, Árbol de Decisión, Bosque Aleatorio y Potenciación de Gradiente. \n",
    "\n",
    "Para el método de Regresión Lineal se reaizó un escalado de características con el algoritmo MinMaxScaler, y los datos categóricos se codificaron con el método One-Hot, se descartó una columna del entrenamiento, pues debido a su alta cardinalidad hubiera requerido un exceso de recursos computacionales.\n",
    "\n",
    "Para el resto de los modelos se utilizó una codificación de etiquetas.\n",
    "\n",
    "Se realizó una optimización de los siguientes hiperparámetros: profundidad máxima para Árbol de Decisión, número de estimadores para Bosque Aleatorio, número de hojas y número de rondas para Potenciación de Gradiente. Para evaluar la calidad de los modelos se calcularon las métricas RECM y score R2, así como el Tiempo de predicción y Tiempo de entrenamiento. Esto se realizó para cada uno de los modelos con los rangos de parámetros a investigar.\n",
    "\n",
    "Para seleccionar los hiperparámetros más adecuados, se realizaron gráficas de dispersión de Tiempo de Predicción contra RECM. Este tipo de gráfica permite visualizar cuál es el valor del hiperparámetro que minimiza simultáneamente estos aspectos del modelo. \n",
    "\n",
    "Adicionalmente se realizaron dos gráficas de calor con valores de RECM y Tiempo de predicción para todos los valores de hojas y rondas.\n",
    "\n",
    "Posteriormente se hizo una gráfica de dispersión comparativa de todos los modelos. Todos los modelos parecen tener un límite en su precisión, de tal manera que al modificar los hiperparámetros la ganancia en precisión es muy pequeña.\n",
    "\n",
    "Cada modelo ofrece ciertas ventajas sobre los demás, por ejemplo, los árboles de decisión toman un tiempo de predicción muy bajo en comparación con los demás modelos, sin embargo tienen un límite en su precisión.\n",
    "\n",
    "Por otro lado los bosques aleatorios ofrecen una precisión muy focalizada, pero difieren mucho en el tiempo de predicción.\n",
    "\n",
    "Los ensambles por potenciación de gradiente ofrecen la mayor precisión de todos los modelos, y un tiempo de predicción menor o comparable a los bosques.\n",
    "\n",
    "Una vez definidos los modelos con los parámetros óptimos, se realizaron predicciones al conjunto de prueba.\n",
    "\n",
    "Las mejores métricas se obtienen con potenciación de gradiente, aunque tiene el segundo tiempo de predicción más alto. El mayor tiempo de entrenamiento y predicción lo tiene el bosque aleatorio. El modelo más rápido es el árbol de decisión. \n",
    "\n",
    "Los resultados del conjunto de validación y el de prueba son congruentes y no hay diferencias significativas en ninguna métrica. Todos los modelos tienen errores más altos en el conjunto de prueba que en el de validación, pero no demasiado, lo cual indica que no hay tanto sobreajuste. \n",
    "\n",
    "En conclusión el modelo con mejor desempeño es con Potenciación de Gradiente."
   ]
  },
  {
   "cell_type": "markdown",
   "metadata": {},
   "source": [
    "# Lista de control"
   ]
  },
  {
   "cell_type": "markdown",
   "metadata": {},
   "source": [
    "Escribe 'x' para verificar. Luego presiona Shift+Enter"
   ]
  },
  {
   "cell_type": "markdown",
   "metadata": {},
   "source": [
    "- [x]  Jupyter Notebook está abierto\n",
    "- [ ]  El código no tiene errores- [ ]  Las celdas con el código han sido colocadas en orden de ejecución- [ ]  Los datos han sido descargados y preparados- [ ]  Los modelos han sido entrenados\n",
    "- [ ]  Se realizó el análisis de velocidad y calidad de los modelos"
   ]
  },
  {
   "cell_type": "markdown",
   "metadata": {},
   "source": []
  }
 ],
 "metadata": {
  "kernelspec": {
   "display_name": "Python 3",
   "language": "python",
   "name": "python3"
  },
  "language_info": {
   "codemirror_mode": {
    "name": "ipython",
    "version": 3
   },
   "file_extension": ".py",
   "mimetype": "text/x-python",
   "name": "python",
   "nbconvert_exporter": "python",
   "pygments_lexer": "ipython3",
   "version": "3.8.5"
  },
  "toc": {
   "base_numbering": 1,
   "nav_menu": {},
   "number_sections": true,
   "sideBar": true,
   "skip_h1_title": true,
   "title_cell": "Table of Contents",
   "title_sidebar": "Contents",
   "toc_cell": false,
   "toc_position": {},
   "toc_section_display": true,
   "toc_window_display": false
  }
 },
 "nbformat": 4,
 "nbformat_minor": 2
}
